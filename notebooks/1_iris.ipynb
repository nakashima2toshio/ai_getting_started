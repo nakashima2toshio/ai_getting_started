{
 "nbformat": 4,
 "nbformat_minor": 0,
 "metadata": {
  "colab": {
   "name": "Section3-2.ipynb",
   "provenance": [],
   "collapsed_sections": []
  },
  "kernelspec": {
   "name": "python3",
   "language": "python",
   "display_name": "Python 3 (ipykernel)"
  },
  "accelerator": "GPU"
 },
 "cells": [
  {
   "cell_type": "markdown",
   "source": [
    "## 1. アヤメの分類【サンプルコード】\n",
    "## 1.1. アヤメ（Iris）データセット\n",
    "## 1.2. 前準備\n",
    "## 1.3. 訓練データとテストデータの用意\n",
    "## 1.4. ニューラルネットワークの定義\n",
    "## 1.5. 損失関数と最適化関数の定義\n",
    "## 1.6. 学習と予測\n",
    "## 1.7. 結果の可視化\n",
    "## 1.8. モデルの保存とロード\n"
   ],
   "metadata": {
    "collapsed": false
   }
  },
  {
   "cell_type": "markdown",
   "source": [
    "# Chapter1 ニューラルネットワークの基本\n",
    "## 1. アヤメの分類【サンプルコード】"
   ],
   "metadata": {
    "collapsed": false
   }
  },
  {
   "cell_type": "code",
   "metadata": {
    "id": "Wb2fGwco1iq6"
   },
   "source": [
    "# 必要なパッケージのインストール\n",
    "import pandas as pd\n",
    "import matplotlib.pyplot as plt\n",
    "import seaborn as sns\n",
    "from sklearn.datasets import load_iris\n",
    "from sklearn.model_selection import train_test_split\n",
    "import torch\n",
    "from torch.utils.data import TensorDataset, DataLoader\n",
    "from torch import nn\n",
    "import torch.nn.functional as F\n",
    "from torch import optim"
   ],
   "execution_count": null,
   "outputs": []
  },
  {
   "cell_type": "markdown",
   "metadata": {
    "id": "5wx2kgfW3KK2"
   },
   "source": [
    "## 1.1. アヤメ（Iris）データセット"
   ]
  },
  {
   "cell_type": "code",
   "metadata": {
    "id": "mNIB9efo2m-g"
   },
   "source": [
    "# データセットのロード\n",
    "iris = load_iris()"
   ],
   "execution_count": null,
   "outputs": []
  },
  {
   "cell_type": "code",
   "execution_count": null,
   "outputs": [],
   "source": [
    "for key, value in zip(iris.keys(), iris.values()):\n",
    "    print(\"{}:\\n{}\\n\".format(key, value))"
   ],
   "metadata": {
    "collapsed": false
   }
  },
  {
   "cell_type": "code",
   "execution_count": null,
   "outputs": [],
   "source": [
    "import pprint\n",
    "pprint.pprint(iris)"
   ],
   "metadata": {
    "collapsed": false
   }
  },
  {
   "cell_type": "code",
   "execution_count": null,
   "outputs": [],
   "source": [
    "type(iris['target'])"
   ],
   "metadata": {
    "collapsed": false
   }
  },
  {
   "cell_type": "code",
   "metadata": {
    "id": "Qg7vOpDT20F5",
    "executionInfo": {
     "status": "ok",
     "timestamp": 1603101516044,
     "user_tz": -540,
     "elapsed": 22609,
     "user": {
      "displayName": "斎藤勇哉",
      "photoUrl": "",
      "userId": "04901706568829922240"
     }
    },
    "outputId": "05666252-a6a4-4945-e067-a88c7950ee21",
    "colab": {
     "base_uri": "https://localhost:8080/",
     "height": 1000
    }
   },
   "source": [
    "# データセットの説明\n",
    "print(iris.DESCR)"
   ],
   "execution_count": null,
   "outputs": []
  },
  {
   "cell_type": "code",
   "metadata": {
    "id": "BxWg8ORg23TN",
    "executionInfo": {
     "status": "ok",
     "timestamp": 1603101516044,
     "user_tz": -540,
     "elapsed": 22604,
     "user": {
      "displayName": "斎藤勇哉",
      "photoUrl": "",
      "userId": "04901706568829922240"
     }
    },
    "outputId": "1a0fc3fc-0b0b-482f-a986-e8bab2a357ef",
    "colab": {
     "base_uri": "https://localhost:8080/",
     "height": 123
    }
   },
   "source": [
    "# データフレームに変換\n",
    "df = pd.DataFrame(iris.data, columns=iris.feature_names)\n",
    "print(df.head())"
   ],
   "execution_count": null,
   "outputs": []
  },
  {
   "cell_type": "code",
   "metadata": {
    "id": "JzO-xRgw2_-P",
    "executionInfo": {
     "status": "ok",
     "timestamp": 1603101516044,
     "user_tz": -540,
     "elapsed": 22598,
     "user": {
      "displayName": "斎藤勇哉",
      "photoUrl": "",
      "userId": "04901706568829922240"
     }
    },
    "outputId": "93653659-ae50-400d-9ebb-10056c9bf902",
    "colab": {
     "base_uri": "https://localhost:8080/",
     "height": 158
    }
   },
   "source": [
    "# 品種の追加\n",
    "df['Variety'] = iris.target\n",
    "df.loc[df['Variety'] == 0, 'Variety'] = 'setosa'\n",
    "df.loc[df['Variety'] == 1, 'Variety'] = 'versicolor'\n",
    "df.loc[df['Variety'] == 2, 'Variety'] = 'virginica'\n",
    "print(df.head())"
   ],
   "execution_count": null,
   "outputs": []
  },
  {
   "cell_type": "code",
   "metadata": {
    "id": "hFVWLfGR3CPT",
    "executionInfo": {
     "status": "ok",
     "timestamp": 1603101516045,
     "user_tz": -540,
     "elapsed": 22594,
     "user": {
      "displayName": "斎藤勇哉",
      "photoUrl": "",
      "userId": "04901706568829922240"
     }
    },
    "outputId": "97d6ab1c-7c70-4469-caf3-9f213ed9c745",
    "colab": {
     "base_uri": "https://localhost:8080/",
     "height": 176
    }
   },
   "source": [
    "# 基本統計量の確認\n",
    "print(df.describe())"
   ],
   "execution_count": null,
   "outputs": []
  },
  {
   "cell_type": "code",
   "metadata": {
    "id": "GXjzxj263EDb",
    "executionInfo": {
     "status": "ok",
     "timestamp": 1603101523000,
     "user_tz": -540,
     "elapsed": 29544,
     "user": {
      "displayName": "斎藤勇哉",
      "photoUrl": "",
      "userId": "04901706568829922240"
     }
    },
    "outputId": "03cb1878-f5af-4f67-b28c-c86dab7d8b6d",
    "colab": {
     "base_uri": "https://localhost:8080/",
     "height": 725
    }
   },
   "source": [
    "# データセットの可視化\n",
    "sns.pairplot(df, hue='Variety')\n",
    "plt.show()"
   ],
   "execution_count": null,
   "outputs": []
  },
  {
   "cell_type": "markdown",
   "metadata": {
    "id": "8IAqpxjG3NYS"
   },
   "source": [
    "## 1.2. 前準備"
   ]
  },
  {
   "cell_type": "code",
   "metadata": {
    "id": "S_b0Suxh3GPH"
   },
   "source": [
    "# データセットの読み込み\n",
    "iris = load_iris()\n",
    "data = iris.data  # 特徴量\n",
    "label = iris.target  # ラベル（品種）"
   ],
   "execution_count": null,
   "outputs": []
  },
  {
   "cell_type": "code",
   "execution_count": null,
   "outputs": [],
   "source": [],
   "metadata": {
    "collapsed": false
   }
  },
  {
   "cell_type": "markdown",
   "metadata": {
    "id": "QI10VTuz3WQv"
   },
   "source": [
    "## 1.3. 訓練データとテストデータの用意"
   ]
  },
  {
   "cell_type": "code",
   "metadata": {
    "id": "cfzT7Hrw3Yb4",
    "executionInfo": {
     "status": "ok",
     "timestamp": 1603101523000,
     "user_tz": -540,
     "elapsed": 29525,
     "user": {
      "displayName": "斎藤勇哉",
      "photoUrl": "",
      "userId": "04901706568829922240"
     }
    },
    "outputId": "aeacefbc-f56f-4b38-9719-71ae8ea738c9",
    "colab": {
     "base_uri": "https://localhost:8080/",
     "height": 87
    }
   },
   "source": [
    "# 学習データとテストデータを分割\n",
    "train_data, test_data, train_label, test_label = train_test_split(\n",
    "    data, label, test_size=0.2)\n",
    "\n",
    "# 学習データとテストデータのサイズの確認\n",
    "print(\"train_data size: {}\".format(len(train_data)))\n",
    "print(\"test_data size: {}\".format(len(test_data)))\n",
    "print(\"train_label size: {}\".format(len(train_label)))\n",
    "print(\"test_label size: {}\".format(len(test_label)))"
   ],
   "execution_count": null,
   "outputs": []
  },
  {
   "cell_type": "code",
   "metadata": {
    "id": "WDefxCZi3aFd",
    "ExecuteTime": {
     "end_time": "2023-05-24T03:17:03.164462Z",
     "start_time": "2023-05-24T03:17:03.157984Z"
    }
   },
   "source": [
    "# ndarrayをPyTorchのTensorに変換\n",
    "train_x = torch.Tensor(train_data)\n",
    "test_x = torch.Tensor(test_data)\n",
    "train_y = torch.LongTensor(train_label)  # torch.int64のデータ型に\n",
    "test_y = torch.LongTensor(test_label)  # torch.int64のデータ型に"
   ],
   "execution_count": 11,
   "outputs": []
  },
  {
   "cell_type": "code",
   "metadata": {
    "id": "c0HE-4Hl3cVQ",
    "ExecuteTime": {
     "end_time": "2023-05-24T03:17:05.301532Z",
     "start_time": "2023-05-24T03:17:05.297746Z"
    }
   },
   "source": [
    "# 特徴量とラベルを結合したデータセットを作成\n",
    "train_dataset = TensorDataset(train_x, train_y)\n",
    "test_dataset = TensorDataset(test_x, test_y)"
   ],
   "execution_count": 12,
   "outputs": []
  },
  {
   "cell_type": "code",
   "metadata": {
    "id": "LDKHxoUK3dhN",
    "executionInfo": {
     "status": "ok",
     "timestamp": 1603101523002,
     "user_tz": -540,
     "elapsed": 29504,
     "user": {
      "displayName": "斎藤勇哉",
      "photoUrl": "",
      "userId": "04901706568829922240"
     }
    },
    "outputId": "e808029f-3011-4500-dd05-0e974777f671",
    "colab": {
     "base_uri": "https://localhost:8080/",
     "height": 52
    }
   },
   "source": [
    "# ミニバッチサイズを指定したデータローダーを作成\n",
    "train_batch = DataLoader(\n",
    "    dataset=train_dataset,  # データセットの指定\n",
    "    batch_size=5,  # バッチサイズの指定\n",
    "    shuffle=True,  # シャッフルするかどうかの指定\n",
    "    num_workers=2)  # コアの数\n",
    "test_batch = DataLoader(\n",
    "    dataset=test_dataset,\n",
    "    batch_size=5,\n",
    "    shuffle=False,\n",
    "    num_workers=2)\n",
    "\n",
    "# ミニバッチデータセットの確認\n",
    "for data, label in train_batch:\n",
    "    print(\"batch data size: {}\".format(data.size()))  # バッチの入力データサイズ\n",
    "    print(\"batch label size: {}\".format(label.size()))  # バッチのラベルサイズ\n",
    "    break"
   ],
   "execution_count": null,
   "outputs": []
  },
  {
   "cell_type": "markdown",
   "metadata": {
    "id": "JmkhKtNC3f2n"
   },
   "source": [
    "## 1.4. ニューラルネットワークの定義"
   ]
  },
  {
   "cell_type": "code",
   "metadata": {
    "id": "caL2VyjF3ehM",
    "ExecuteTime": {
     "end_time": "2023-05-24T03:17:14.044216Z",
     "start_time": "2023-05-24T03:17:14.041085Z"
    }
   },
   "source": [
    "# ニューラルネットワークの定義\n",
    "class Net(nn.Module):\n",
    "    def __init__(self, D_in, H, D_out):\n",
    "        super(Net, self).__init__()\n",
    "        self.linear1 = torch.nn.Linear(D_in, H)\n",
    "        self.linear2 = torch.nn.Linear(H, D_out)\n",
    "\n",
    "    def forward(self, x):\n",
    "        x = F.relu(self.linear1(x))\n",
    "        x = self.linear2(x)\n",
    "        return x"
   ],
   "execution_count": 14,
   "outputs": []
  },
  {
   "cell_type": "code",
   "metadata": {
    "id": "PA4UaoKi3jFO",
    "ExecuteTime": {
     "end_time": "2023-05-24T03:17:32.901923Z",
     "start_time": "2023-05-24T03:17:32.898249Z"
    }
   },
   "source": [
    "# ハイパーパラメータの定義\n",
    "D_in = 4  # 入力次元: 4\n",
    "H = 100  # 隠れ層次元: 100\n",
    "D_out = 3  # 出力次元: 3\n",
    "epoch = 100  # 学習回数"
   ],
   "execution_count": 15,
   "outputs": []
  },
  {
   "cell_type": "code",
   "metadata": {
    "id": "b54ZDXnd3j6x",
    "executionInfo": {
     "status": "ok",
     "timestamp": 1603101532069,
     "user_tz": -540,
     "elapsed": 38548,
     "user": {
      "displayName": "斎藤勇哉",
      "photoUrl": "",
      "userId": "04901706568829922240"
     }
    },
    "outputId": "e34028b8-898c-4dff-b5f0-a6aa07d7a67c",
    "colab": {
     "base_uri": "https://localhost:8080/",
     "height": 34
    }
   },
   "source": [
    "# ネットワークのロード\n",
    "# CPUとGPUどちらを使うかを指定\n",
    "# device = torch.device('cuda' if torch.cuda.is_available() else 'cpu')\n",
    "device = torch.device('mps')\n",
    "\n",
    "net = Net(D_in, H, D_out).to(device)\n",
    "# デバイスの確認\n",
    "print(\"Device: {}\".format(device))"
   ],
   "execution_count": null,
   "outputs": []
  },
  {
   "cell_type": "markdown",
   "metadata": {
    "id": "SCi0ojdj3lw6"
   },
   "source": [
    "## 1.5. 損失関数と最適化関数の定義"
   ]
  },
  {
   "cell_type": "code",
   "metadata": {
    "id": "IK-7MsVT3k6n",
    "ExecuteTime": {
     "end_time": "2023-05-24T03:17:57.701067Z",
     "start_time": "2023-05-24T03:17:57.694612Z"
    }
   },
   "source": [
    "# 損失関数の定義\n",
    "criterion = nn.CrossEntropyLoss()\n",
    "\n",
    "# 最適化関数の定義\n",
    "optimizer = optim.Adam(net.parameters())"
   ],
   "execution_count": 17,
   "outputs": []
  },
  {
   "cell_type": "markdown",
   "metadata": {
    "id": "zr3gcqPV3pvp"
   },
   "source": [
    "## 1.6. 学習"
   ]
  },
  {
   "cell_type": "code",
   "metadata": {
    "id": "5cdxJ6Rq3o4G",
    "executionInfo": {
     "status": "ok",
     "timestamp": 1603101557116,
     "user_tz": -540,
     "elapsed": 63577,
     "user": {
      "displayName": "斎藤勇哉",
      "photoUrl": "",
      "userId": "04901706568829922240"
     }
    },
    "outputId": "6acc02cc-e112-4c8f-97e4-9f88c886ae6c",
    "colab": {
     "base_uri": "https://localhost:8080/",
     "height": 1000
    }
   },
   "source": [
    "# 損失と正解率を保存するリストを作成\n",
    "train_loss_list = []  # 学習損失\n",
    "train_accuracy_list = []  # 学習データの正答率\n",
    "test_loss_list = []  # 評価損失\n",
    "test_accuracy_list = []  # テストデータの正答率\n",
    "\n",
    "# 学習（エポック）の実行\n",
    "for i in range(epoch):\n",
    "    # エポックの進行状況を表示\n",
    "    print('---------------------------------------------')\n",
    "    print(\"Epoch: {}/{}\".format(i+1, epoch))\n",
    "\n",
    "    # 損失と正解率の初期化\n",
    "    train_loss = 0  # 学習損失\n",
    "    train_accuracy = 0  # 学習データの正答数\n",
    "    test_loss = 0  # 評価損失\n",
    "    test_accuracy = 0  # テストデータの正答数\n",
    "\n",
    "    # ---------学習パート--------- #\n",
    "    # ニューラルネットワークを学習モードに設定\n",
    "    net.train()\n",
    "    # ミニバッチごとにデータをロードし学習\n",
    "    for data, label in train_batch:\n",
    "        # GPUにTensorを転送\n",
    "        data = data.to(device)\n",
    "        label = label.to(device)\n",
    "\n",
    "        # 勾配を初期化\n",
    "        optimizer.zero_grad()\n",
    "        # データを入力して予測値を計算（順伝播）\n",
    "        y_pred_prob = net(data)\n",
    "        # 損失（誤差）を計算\n",
    "        loss = criterion(y_pred_prob, label)\n",
    "        # 勾配の計算（逆伝搬）\n",
    "        loss.backward()\n",
    "        # パラメータ（重み）の更新\n",
    "        optimizer.step()\n",
    "\n",
    "        # ミニバッチごとの損失を蓄積\n",
    "        train_loss += loss.item()\n",
    "\n",
    "        # 予測したラベルを予測確率y_pred_probから計算\n",
    "        y_pred_label = torch.max(y_pred_prob, 1)[1]\n",
    "        # ミニバッチごとに正解したラベル数をカウント\n",
    "        train_accuracy += torch.sum(y_pred_label == label).item() / len(label)\n",
    "\n",
    "    # ミニバッチの平均の損失と正解率を計算\n",
    "    batch_train_loss = train_loss / len(train_batch)\n",
    "    batch_train_accuracy = train_accuracy / len(train_batch)\n",
    "    # ---------学習パートはここまで--------- #\n",
    "\n",
    "    # ---------評価パート--------- #\n",
    "    # ニューラルネットワークを評価モードに設定\n",
    "    net.eval()\n",
    "    # 評価時の計算で自動微分機能をオフにする\n",
    "    with torch.no_grad():\n",
    "        for data, label in test_batch:\n",
    "            # GPUにTensorを転送\n",
    "            data = data.to(device)\n",
    "            label = label.to(device)\n",
    "            # データを入力して予測値を計算（順伝播）\n",
    "            y_pred_prob = net(data)\n",
    "            # 損失（誤差）を計算\n",
    "            loss = criterion(y_pred_prob, label)\n",
    "            # ミニバッチごとの損失を蓄積\n",
    "            test_loss += loss.item()\n",
    "\n",
    "            # 予測したラベルを予測確率y_pred_probから計算\n",
    "            y_pred_label = torch.max(y_pred_prob, 1)[1]\n",
    "            # ミニバッチごとに正解したラベル数をカウント\n",
    "            test_accuracy += torch.sum(y_pred_label == label).item() / len(label)\n",
    "    # ミニバッチの平均の損失と正解率を計算\n",
    "    batch_test_loss = test_loss / len(test_batch)\n",
    "    batch_test_accuracy = test_accuracy / len(test_batch)\n",
    "    # ---------評価パートはここまで--------- #\n",
    "\n",
    "    # エポックごとに損失と正解率を表示\n",
    "    print(\"Train_Loss: {:.4f} Train_Accuracy: {:.4f}\".format(\n",
    "        batch_train_loss, batch_train_accuracy))\n",
    "    print(\"Test_Loss: {:.4f} Test_Accuracy: {:.4f}\".format(\n",
    "        batch_test_loss, batch_test_accuracy))\n",
    "\n",
    "    # 損失と正解率をリスト化して保存\n",
    "    train_loss_list.append(batch_train_loss)\n",
    "    train_accuracy_list.append(batch_train_accuracy)\n",
    "    test_loss_list.append(batch_test_loss)\n",
    "    test_accuracy_list.append(batch_test_accuracy)"
   ],
   "execution_count": null,
   "outputs": []
  },
  {
   "cell_type": "markdown",
   "metadata": {
    "id": "ELW8Rkph3vFw"
   },
   "source": [
    "## 1.7. 結果の可視化"
   ]
  },
  {
   "cell_type": "code",
   "metadata": {
    "id": "hcm4QGVq3wSY",
    "executionInfo": {
     "status": "ok",
     "timestamp": 1603101557702,
     "user_tz": -540,
     "elapsed": 64155,
     "user": {
      "displayName": "斎藤勇哉",
      "photoUrl": "",
      "userId": "04901706568829922240"
     }
    },
    "outputId": "9fa22a53-0f84-473f-bfc1-333f07ebde8d",
    "colab": {
     "base_uri": "https://localhost:8080/",
     "height": 573
    }
   },
   "source": [
    "# 損失\n",
    "plt.figure()\n",
    "plt.title('Train and Test Loss')\n",
    "plt.xlabel('Epoch')\n",
    "plt.ylabel('Loss')\n",
    "plt.plot(range(1, epoch+1), train_loss_list, color='blue',\n",
    "         linestyle='-', label='Train_Loss')\n",
    "plt.plot(range(1, epoch+1), test_loss_list, color='red',\n",
    "         linestyle='--', label='Test_Loss')\n",
    "plt.legend()  # 凡例\n",
    "\n",
    "# 正解率\n",
    "plt.figure()\n",
    "plt.title('Train and Test Accuracy')\n",
    "plt.xlabel('Epoch')\n",
    "plt.ylabel('Accuracy')\n",
    "plt.plot(range(1, epoch+1), train_accuracy_list, color='blue',\n",
    "         linestyle='-', label='Train_Accuracy')\n",
    "plt.plot(range(1, epoch+1), test_accuracy_list, color='red',\n",
    "         linestyle='--', label='Test_Accuracy')\n",
    "plt.legend()\n",
    "\n",
    "# 表示\n",
    "plt.show()"
   ],
   "execution_count": null,
   "outputs": []
  },
  {
   "cell_type": "markdown",
   "metadata": {
    "id": "5GY7Kiaq39Pb"
   },
   "source": [
    "## 1.8. 新たにテスト用のデータセットを用意して推定したい場合"
   ]
  },
  {
   "cell_type": "code",
   "metadata": {
    "id": "6LL7SWB738RY",
    "ExecuteTime": {
     "end_time": "2023-05-24T03:23:33.698361Z",
     "start_time": "2023-05-24T03:23:33.693808Z"
    }
   },
   "source": [
    "# CPUとGPUどちらを使うかを指定\n",
    "# device = torch.device('cuda' if torch.cuda.is_available() else 'cpu')\n",
    "# 学習パラメータを保存\n",
    "torch.save(net.to(device).state_dict(), '3-2_iris_net.pth')"
   ],
   "execution_count": 20,
   "outputs": []
  },
  {
   "cell_type": "code",
   "metadata": {
    "id": "J2lGB1j04A04",
    "executionInfo": {
     "status": "ok",
     "timestamp": 1603101557703,
     "user_tz": -540,
     "elapsed": 64141,
     "user": {
      "displayName": "斎藤勇哉",
      "photoUrl": "",
      "userId": "04901706568829922240"
     }
    },
    "outputId": "7edda885-e2de-485f-93e3-8b4ed6f2e5b0",
    "colab": {
     "base_uri": "https://localhost:8080/",
     "height": 34
    },
    "ExecuteTime": {
     "end_time": "2023-05-24T03:23:43.098913Z",
     "start_time": "2023-05-24T03:23:43.093710Z"
    }
   },
   "source": [
    "# ハイパーパラメータの定義\n",
    "D_in = 4  # 入力次元: 4\n",
    "H = 100  # 隠れ層次元: 100\n",
    "D_out = 3  # 出力次元: 3\n",
    "\n",
    "# 保存した学習パラメータを読み込む\n",
    "net2 = Net(D_in, H, D_out).to(device)\n",
    "net2.load_state_dict(torch.load('3-2_iris_net.pth', map_location=device))"
   ],
   "execution_count": 21,
   "outputs": [
    {
     "data": {
      "text/plain": "<All keys matched successfully>"
     },
     "execution_count": 21,
     "metadata": {},
     "output_type": "execute_result"
    }
   ]
  },
  {
   "cell_type": "code",
   "metadata": {
    "id": "UquHHIrh4CMn",
    "executionInfo": {
     "status": "ok",
     "timestamp": 1603101557704,
     "user_tz": -540,
     "elapsed": 64134,
     "user": {
      "displayName": "斎藤勇哉",
      "photoUrl": "",
      "userId": "04901706568829922240"
     }
    },
    "outputId": "8e5041ac-d998-4488-ad12-d5f30a339b8d",
    "colab": {
     "base_uri": "https://localhost:8080/",
     "height": 34
    },
    "ExecuteTime": {
     "end_time": "2023-05-24T03:23:50.647962Z",
     "start_time": "2023-05-24T03:23:49.484938Z"
    }
   },
   "source": [
    "# ニューラルネットワークを評価モードに設定\n",
    "net2.eval()\n",
    "# 推定時の計算で自動微分機能をオフにする\n",
    "with torch.no_grad():\n",
    "    # 初期化\n",
    "    test_accuracy = 0\n",
    "    for data, label in test_batch:\n",
    "        # GPUにTensorを転送\n",
    "        data = data.to(device)\n",
    "        label = label.to(device)\n",
    "        # データを入力して予測値を計算（順伝播）\n",
    "        y_pred_prob = net(data)\n",
    "        # 予測したラベルを予測確率y_pred_probから計算\n",
    "        y_pred_label = torch.max(y_pred_prob, 1)[1]\n",
    "        # ミニバッチごとに正解したラベル数をカウント\n",
    "        test_accuracy += torch.sum(y_pred_label == label).item() / len(label)\n",
    "# ミニバッチの平均の損失と正解率を計算\n",
    "batch_test_accuracy = test_accuracy / len(test_batch)\n",
    "# 正解率を表示\n",
    "print(\"Accuracy: {:.3f}\".format(batch_test_accuracy))"
   ],
   "execution_count": 22,
   "outputs": [
    {
     "name": "stdout",
     "output_type": "stream",
     "text": [
      "Accuracy: 0.933\n"
     ]
    }
   ]
  },
  {
   "cell_type": "code",
   "execution_count": null,
   "outputs": [],
   "source": [],
   "metadata": {
    "collapsed": false
   }
  }
 ]
}
