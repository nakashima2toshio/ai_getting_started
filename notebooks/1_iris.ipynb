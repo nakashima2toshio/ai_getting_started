{
 "nbformat": 4,
 "nbformat_minor": 0,
 "metadata": {
  "colab": {
   "name": "Section3-2.ipynb",
   "provenance": [],
   "collapsed_sections": []
  },
  "kernelspec": {
   "name": "python3",
   "language": "python",
   "display_name": "Python 3 (ipykernel)"
  },
  "accelerator": "GPU"
 },
 "cells": [
  {
   "cell_type": "markdown",
   "source": [
    "## アヤメの概要\n",
    "### 1. アヤメの分類\n",
    "### 1.1. アヤメ（Iris）データセット\n",
    "### 1.2. 前準備\n",
    "### 1.3. 訓練データとテストデータの用意\n",
    "### 1.4. ニューラルネットワークの定義\n",
    "### 1.5. 損失関数と最適化関数の定義\n",
    "### 1.6. 学習と予測\n",
    "### 1.7. 結果の可視化\n",
    "### 1.8. モデルの保存とロード\n"
   ],
   "metadata": {
    "collapsed": false
   }
  },
  {
   "cell_type": "markdown",
   "source": [
    "## Chapter1 ニューラルネットワークの基本\n",
    "### ３種類の\"setosa\"、\"versicolor\"、\"virginica\"アヤメがあります。\n",
    "### アヤメの花冠（はなびら）は、がく片（Sepal）、花弁（Petal）の幅及び長さに特徴があります。\n",
    "### これら4つの特徴から3種類の花の名前を予測することが、IRISの名称予測問題です。\n",
    "\n",
    "## 1. アヤメの分類"
   ],
   "metadata": {
    "collapsed": false
   }
  },
  {
   "cell_type": "code",
   "metadata": {
    "id": "Wb2fGwco1iq6",
    "ExecuteTime": {
     "end_time": "2023-06-07T10:26:33.538856Z",
     "start_time": "2023-06-07T10:26:30.010610Z"
    }
   },
   "source": [
    "# 必要なパッケージのインストール\n",
    "import pandas as pd\n",
    "import matplotlib.pyplot as plt\n",
    "import seaborn as sns\n",
    "from sklearn.datasets import load_iris\n",
    "from sklearn.model_selection import train_test_split\n",
    "import torch\n",
    "from torch.utils.data import TensorDataset, DataLoader\n",
    "from torch import nn\n",
    "import torch.nn.functional as F\n",
    "from torch import optim"
   ],
   "execution_count": 1,
   "outputs": []
  },
  {
   "cell_type": "markdown",
   "metadata": {
    "id": "5wx2kgfW3KK2"
   },
   "source": [
    "## 1.1. アヤメ（Iris）データセット"
   ]
  },
  {
   "cell_type": "code",
   "metadata": {
    "id": "mNIB9efo2m-g",
    "ExecuteTime": {
     "end_time": "2023-06-07T10:26:33.545344Z",
     "start_time": "2023-06-07T10:26:33.539173Z"
    }
   },
   "source": [
    "# データセットのロード\n",
    "iris = load_iris()"
   ],
   "execution_count": 2,
   "outputs": []
  },
  {
   "cell_type": "code",
   "execution_count": 3,
   "outputs": [
    {
     "name": "stdout",
     "output_type": "stream",
     "text": [
      "data:\n",
      "[[5.1 3.5 1.4 0.2]\n",
      " [4.9 3.  1.4 0.2]\n",
      " [4.7 3.2 1.3 0.2]\n",
      " [4.6 3.1 1.5 0.2]\n",
      " [5.  3.6 1.4 0.2]\n",
      " [5.4 3.9 1.7 0.4]\n",
      " [4.6 3.4 1.4 0.3]\n",
      " [5.  3.4 1.5 0.2]\n",
      " [4.4 2.9 1.4 0.2]\n",
      " [4.9 3.1 1.5 0.1]\n",
      " [5.4 3.7 1.5 0.2]\n",
      " [4.8 3.4 1.6 0.2]\n",
      " [4.8 3.  1.4 0.1]\n",
      " [4.3 3.  1.1 0.1]\n",
      " [5.8 4.  1.2 0.2]\n",
      " [5.7 4.4 1.5 0.4]\n",
      " [5.4 3.9 1.3 0.4]\n",
      " [5.1 3.5 1.4 0.3]\n",
      " [5.7 3.8 1.7 0.3]\n",
      " [5.1 3.8 1.5 0.3]\n",
      " [5.4 3.4 1.7 0.2]\n",
      " [5.1 3.7 1.5 0.4]\n",
      " [4.6 3.6 1.  0.2]\n",
      " [5.1 3.3 1.7 0.5]\n",
      " [4.8 3.4 1.9 0.2]\n",
      " [5.  3.  1.6 0.2]\n",
      " [5.  3.4 1.6 0.4]\n",
      " [5.2 3.5 1.5 0.2]\n",
      " [5.2 3.4 1.4 0.2]\n",
      " [4.7 3.2 1.6 0.2]\n",
      " [4.8 3.1 1.6 0.2]\n",
      " [5.4 3.4 1.5 0.4]\n",
      " [5.2 4.1 1.5 0.1]\n",
      " [5.5 4.2 1.4 0.2]\n",
      " [4.9 3.1 1.5 0.2]\n",
      " [5.  3.2 1.2 0.2]\n",
      " [5.5 3.5 1.3 0.2]\n",
      " [4.9 3.6 1.4 0.1]\n",
      " [4.4 3.  1.3 0.2]\n",
      " [5.1 3.4 1.5 0.2]\n",
      " [5.  3.5 1.3 0.3]\n",
      " [4.5 2.3 1.3 0.3]\n",
      " [4.4 3.2 1.3 0.2]\n",
      " [5.  3.5 1.6 0.6]\n",
      " [5.1 3.8 1.9 0.4]\n",
      " [4.8 3.  1.4 0.3]\n",
      " [5.1 3.8 1.6 0.2]\n",
      " [4.6 3.2 1.4 0.2]\n",
      " [5.3 3.7 1.5 0.2]\n",
      " [5.  3.3 1.4 0.2]\n",
      " [7.  3.2 4.7 1.4]\n",
      " [6.4 3.2 4.5 1.5]\n",
      " [6.9 3.1 4.9 1.5]\n",
      " [5.5 2.3 4.  1.3]\n",
      " [6.5 2.8 4.6 1.5]\n",
      " [5.7 2.8 4.5 1.3]\n",
      " [6.3 3.3 4.7 1.6]\n",
      " [4.9 2.4 3.3 1. ]\n",
      " [6.6 2.9 4.6 1.3]\n",
      " [5.2 2.7 3.9 1.4]\n",
      " [5.  2.  3.5 1. ]\n",
      " [5.9 3.  4.2 1.5]\n",
      " [6.  2.2 4.  1. ]\n",
      " [6.1 2.9 4.7 1.4]\n",
      " [5.6 2.9 3.6 1.3]\n",
      " [6.7 3.1 4.4 1.4]\n",
      " [5.6 3.  4.5 1.5]\n",
      " [5.8 2.7 4.1 1. ]\n",
      " [6.2 2.2 4.5 1.5]\n",
      " [5.6 2.5 3.9 1.1]\n",
      " [5.9 3.2 4.8 1.8]\n",
      " [6.1 2.8 4.  1.3]\n",
      " [6.3 2.5 4.9 1.5]\n",
      " [6.1 2.8 4.7 1.2]\n",
      " [6.4 2.9 4.3 1.3]\n",
      " [6.6 3.  4.4 1.4]\n",
      " [6.8 2.8 4.8 1.4]\n",
      " [6.7 3.  5.  1.7]\n",
      " [6.  2.9 4.5 1.5]\n",
      " [5.7 2.6 3.5 1. ]\n",
      " [5.5 2.4 3.8 1.1]\n",
      " [5.5 2.4 3.7 1. ]\n",
      " [5.8 2.7 3.9 1.2]\n",
      " [6.  2.7 5.1 1.6]\n",
      " [5.4 3.  4.5 1.5]\n",
      " [6.  3.4 4.5 1.6]\n",
      " [6.7 3.1 4.7 1.5]\n",
      " [6.3 2.3 4.4 1.3]\n",
      " [5.6 3.  4.1 1.3]\n",
      " [5.5 2.5 4.  1.3]\n",
      " [5.5 2.6 4.4 1.2]\n",
      " [6.1 3.  4.6 1.4]\n",
      " [5.8 2.6 4.  1.2]\n",
      " [5.  2.3 3.3 1. ]\n",
      " [5.6 2.7 4.2 1.3]\n",
      " [5.7 3.  4.2 1.2]\n",
      " [5.7 2.9 4.2 1.3]\n",
      " [6.2 2.9 4.3 1.3]\n",
      " [5.1 2.5 3.  1.1]\n",
      " [5.7 2.8 4.1 1.3]\n",
      " [6.3 3.3 6.  2.5]\n",
      " [5.8 2.7 5.1 1.9]\n",
      " [7.1 3.  5.9 2.1]\n",
      " [6.3 2.9 5.6 1.8]\n",
      " [6.5 3.  5.8 2.2]\n",
      " [7.6 3.  6.6 2.1]\n",
      " [4.9 2.5 4.5 1.7]\n",
      " [7.3 2.9 6.3 1.8]\n",
      " [6.7 2.5 5.8 1.8]\n",
      " [7.2 3.6 6.1 2.5]\n",
      " [6.5 3.2 5.1 2. ]\n",
      " [6.4 2.7 5.3 1.9]\n",
      " [6.8 3.  5.5 2.1]\n",
      " [5.7 2.5 5.  2. ]\n",
      " [5.8 2.8 5.1 2.4]\n",
      " [6.4 3.2 5.3 2.3]\n",
      " [6.5 3.  5.5 1.8]\n",
      " [7.7 3.8 6.7 2.2]\n",
      " [7.7 2.6 6.9 2.3]\n",
      " [6.  2.2 5.  1.5]\n",
      " [6.9 3.2 5.7 2.3]\n",
      " [5.6 2.8 4.9 2. ]\n",
      " [7.7 2.8 6.7 2. ]\n",
      " [6.3 2.7 4.9 1.8]\n",
      " [6.7 3.3 5.7 2.1]\n",
      " [7.2 3.2 6.  1.8]\n",
      " [6.2 2.8 4.8 1.8]\n",
      " [6.1 3.  4.9 1.8]\n",
      " [6.4 2.8 5.6 2.1]\n",
      " [7.2 3.  5.8 1.6]\n",
      " [7.4 2.8 6.1 1.9]\n",
      " [7.9 3.8 6.4 2. ]\n",
      " [6.4 2.8 5.6 2.2]\n",
      " [6.3 2.8 5.1 1.5]\n",
      " [6.1 2.6 5.6 1.4]\n",
      " [7.7 3.  6.1 2.3]\n",
      " [6.3 3.4 5.6 2.4]\n",
      " [6.4 3.1 5.5 1.8]\n",
      " [6.  3.  4.8 1.8]\n",
      " [6.9 3.1 5.4 2.1]\n",
      " [6.7 3.1 5.6 2.4]\n",
      " [6.9 3.1 5.1 2.3]\n",
      " [5.8 2.7 5.1 1.9]\n",
      " [6.8 3.2 5.9 2.3]\n",
      " [6.7 3.3 5.7 2.5]\n",
      " [6.7 3.  5.2 2.3]\n",
      " [6.3 2.5 5.  1.9]\n",
      " [6.5 3.  5.2 2. ]\n",
      " [6.2 3.4 5.4 2.3]\n",
      " [5.9 3.  5.1 1.8]]\n",
      "\n",
      "target:\n",
      "[0 0 0 0 0 0 0 0 0 0 0 0 0 0 0 0 0 0 0 0 0 0 0 0 0 0 0 0 0 0 0 0 0 0 0 0 0\n",
      " 0 0 0 0 0 0 0 0 0 0 0 0 0 1 1 1 1 1 1 1 1 1 1 1 1 1 1 1 1 1 1 1 1 1 1 1 1\n",
      " 1 1 1 1 1 1 1 1 1 1 1 1 1 1 1 1 1 1 1 1 1 1 1 1 1 1 2 2 2 2 2 2 2 2 2 2 2\n",
      " 2 2 2 2 2 2 2 2 2 2 2 2 2 2 2 2 2 2 2 2 2 2 2 2 2 2 2 2 2 2 2 2 2 2 2 2 2\n",
      " 2 2]\n",
      "\n",
      "frame:\n",
      "None\n",
      "\n",
      "target_names:\n",
      "['setosa' 'versicolor' 'virginica']\n",
      "\n",
      "DESCR:\n",
      ".. _iris_dataset:\n",
      "\n",
      "Iris plants dataset\n",
      "--------------------\n",
      "\n",
      "**Data Set Characteristics:**\n",
      "\n",
      "    :Number of Instances: 150 (50 in each of three classes)\n",
      "    :Number of Attributes: 4 numeric, predictive attributes and the class\n",
      "    :Attribute Information:\n",
      "        - sepal length in cm\n",
      "        - sepal width in cm\n",
      "        - petal length in cm\n",
      "        - petal width in cm\n",
      "        - class:\n",
      "                - Iris-Setosa\n",
      "                - Iris-Versicolour\n",
      "                - Iris-Virginica\n",
      "                \n",
      "    :Summary Statistics:\n",
      "\n",
      "    ============== ==== ==== ======= ===== ====================\n",
      "                    Min  Max   Mean    SD   Class Correlation\n",
      "    ============== ==== ==== ======= ===== ====================\n",
      "    sepal length:   4.3  7.9   5.84   0.83    0.7826\n",
      "    sepal width:    2.0  4.4   3.05   0.43   -0.4194\n",
      "    petal length:   1.0  6.9   3.76   1.76    0.9490  (high!)\n",
      "    petal width:    0.1  2.5   1.20   0.76    0.9565  (high!)\n",
      "    ============== ==== ==== ======= ===== ====================\n",
      "\n",
      "    :Missing Attribute Values: None\n",
      "    :Class Distribution: 33.3% for each of 3 classes.\n",
      "    :Creator: R.A. Fisher\n",
      "    :Donor: Michael Marshall (MARSHALL%PLU@io.arc.nasa.gov)\n",
      "    :Date: July, 1988\n",
      "\n",
      "The famous Iris database, first used by Sir R.A. Fisher. The dataset is taken\n",
      "from Fisher's paper. Note that it's the same as in R, but not as in the UCI\n",
      "Machine Learning Repository, which has two wrong data points.\n",
      "\n",
      "This is perhaps the best known database to be found in the\n",
      "pattern recognition literature.  Fisher's paper is a classic in the field and\n",
      "is referenced frequently to this day.  (See Duda & Hart, for example.)  The\n",
      "data set contains 3 classes of 50 instances each, where each class refers to a\n",
      "type of iris plant.  One class is linearly separable from the other 2; the\n",
      "latter are NOT linearly separable from each other.\n",
      "\n",
      ".. topic:: References\n",
      "\n",
      "   - Fisher, R.A. \"The use of multiple measurements in taxonomic problems\"\n",
      "     Annual Eugenics, 7, Part II, 179-188 (1936); also in \"Contributions to\n",
      "     Mathematical Statistics\" (John Wiley, NY, 1950).\n",
      "   - Duda, R.O., & Hart, P.E. (1973) Pattern Classification and Scene Analysis.\n",
      "     (Q327.D83) John Wiley & Sons.  ISBN 0-471-22361-1.  See page 218.\n",
      "   - Dasarathy, B.V. (1980) \"Nosing Around the Neighborhood: A New System\n",
      "     Structure and Classification Rule for Recognition in Partially Exposed\n",
      "     Environments\".  IEEE Transactions on Pattern Analysis and Machine\n",
      "     Intelligence, Vol. PAMI-2, No. 1, 67-71.\n",
      "   - Gates, G.W. (1972) \"The Reduced Nearest Neighbor Rule\".  IEEE Transactions\n",
      "     on Information Theory, May 1972, 431-433.\n",
      "   - See also: 1988 MLC Proceedings, 54-64.  Cheeseman et al\"s AUTOCLASS II\n",
      "     conceptual clustering system finds 3 classes in the data.\n",
      "   - Many, many more ...\n",
      "\n",
      "feature_names:\n",
      "['sepal length (cm)', 'sepal width (cm)', 'petal length (cm)', 'petal width (cm)']\n",
      "\n",
      "filename:\n",
      "iris.csv\n",
      "\n",
      "data_module:\n",
      "sklearn.datasets.data\n",
      "\n"
     ]
    }
   ],
   "source": [
    "for key, value in zip(iris.keys(), iris.values()):\n",
    "    print(\"{}:\\n{}\\n\".format(key, value))"
   ],
   "metadata": {
    "collapsed": false,
    "ExecuteTime": {
     "end_time": "2023-06-07T10:26:33.550516Z",
     "start_time": "2023-06-07T10:26:33.546261Z"
    }
   }
  },
  {
   "cell_type": "code",
   "execution_count": null,
   "outputs": [],
   "source": [
    "import pprint\n",
    "pprint.pprint(iris)"
   ],
   "metadata": {
    "collapsed": false
   }
  },
  {
   "cell_type": "code",
   "execution_count": 4,
   "outputs": [
    {
     "name": "stdout",
     "output_type": "stream",
     "text": [
      "{'DESCR': '.. _iris_dataset:\\n'\n",
      "          '\\n'\n",
      "          'Iris plants dataset\\n'\n",
      "          '--------------------\\n'\n",
      "          '\\n'\n",
      "          '**Data Set Characteristics:**\\n'\n",
      "          '\\n'\n",
      "          '    :Number of Instances: 150 (50 in each of three classes)\\n'\n",
      "          '    :Number of Attributes: 4 numeric, predictive attributes and the '\n",
      "          'class\\n'\n",
      "          '    :Attribute Information:\\n'\n",
      "          '        - sepal length in cm\\n'\n",
      "          '        - sepal width in cm\\n'\n",
      "          '        - petal length in cm\\n'\n",
      "          '        - petal width in cm\\n'\n",
      "          '        - class:\\n'\n",
      "          '                - Iris-Setosa\\n'\n",
      "          '                - Iris-Versicolour\\n'\n",
      "          '                - Iris-Virginica\\n'\n",
      "          '                \\n'\n",
      "          '    :Summary Statistics:\\n'\n",
      "          '\\n'\n",
      "          '    ============== ==== ==== ======= ===== ====================\\n'\n",
      "          '                    Min  Max   Mean    SD   Class Correlation\\n'\n",
      "          '    ============== ==== ==== ======= ===== ====================\\n'\n",
      "          '    sepal length:   4.3  7.9   5.84   0.83    0.7826\\n'\n",
      "          '    sepal width:    2.0  4.4   3.05   0.43   -0.4194\\n'\n",
      "          '    petal length:   1.0  6.9   3.76   1.76    0.9490  (high!)\\n'\n",
      "          '    petal width:    0.1  2.5   1.20   0.76    0.9565  (high!)\\n'\n",
      "          '    ============== ==== ==== ======= ===== ====================\\n'\n",
      "          '\\n'\n",
      "          '    :Missing Attribute Values: None\\n'\n",
      "          '    :Class Distribution: 33.3% for each of 3 classes.\\n'\n",
      "          '    :Creator: R.A. Fisher\\n'\n",
      "          '    :Donor: Michael Marshall (MARSHALL%PLU@io.arc.nasa.gov)\\n'\n",
      "          '    :Date: July, 1988\\n'\n",
      "          '\\n'\n",
      "          'The famous Iris database, first used by Sir R.A. Fisher. The '\n",
      "          'dataset is taken\\n'\n",
      "          \"from Fisher's paper. Note that it's the same as in R, but not as in \"\n",
      "          'the UCI\\n'\n",
      "          'Machine Learning Repository, which has two wrong data points.\\n'\n",
      "          '\\n'\n",
      "          'This is perhaps the best known database to be found in the\\n'\n",
      "          \"pattern recognition literature.  Fisher's paper is a classic in the \"\n",
      "          'field and\\n'\n",
      "          'is referenced frequently to this day.  (See Duda & Hart, for '\n",
      "          'example.)  The\\n'\n",
      "          'data set contains 3 classes of 50 instances each, where each class '\n",
      "          'refers to a\\n'\n",
      "          'type of iris plant.  One class is linearly separable from the other '\n",
      "          '2; the\\n'\n",
      "          'latter are NOT linearly separable from each other.\\n'\n",
      "          '\\n'\n",
      "          '.. topic:: References\\n'\n",
      "          '\\n'\n",
      "          '   - Fisher, R.A. \"The use of multiple measurements in taxonomic '\n",
      "          'problems\"\\n'\n",
      "          '     Annual Eugenics, 7, Part II, 179-188 (1936); also in '\n",
      "          '\"Contributions to\\n'\n",
      "          '     Mathematical Statistics\" (John Wiley, NY, 1950).\\n'\n",
      "          '   - Duda, R.O., & Hart, P.E. (1973) Pattern Classification and '\n",
      "          'Scene Analysis.\\n'\n",
      "          '     (Q327.D83) John Wiley & Sons.  ISBN 0-471-22361-1.  See page '\n",
      "          '218.\\n'\n",
      "          '   - Dasarathy, B.V. (1980) \"Nosing Around the Neighborhood: A New '\n",
      "          'System\\n'\n",
      "          '     Structure and Classification Rule for Recognition in Partially '\n",
      "          'Exposed\\n'\n",
      "          '     Environments\".  IEEE Transactions on Pattern Analysis and '\n",
      "          'Machine\\n'\n",
      "          '     Intelligence, Vol. PAMI-2, No. 1, 67-71.\\n'\n",
      "          '   - Gates, G.W. (1972) \"The Reduced Nearest Neighbor Rule\".  IEEE '\n",
      "          'Transactions\\n'\n",
      "          '     on Information Theory, May 1972, 431-433.\\n'\n",
      "          '   - See also: 1988 MLC Proceedings, 54-64.  Cheeseman et al\"s '\n",
      "          'AUTOCLASS II\\n'\n",
      "          '     conceptual clustering system finds 3 classes in the data.\\n'\n",
      "          '   - Many, many more ...',\n",
      " 'data': array([[5.1, 3.5, 1.4, 0.2],\n",
      "       [4.9, 3. , 1.4, 0.2],\n",
      "       [4.7, 3.2, 1.3, 0.2],\n",
      "       [4.6, 3.1, 1.5, 0.2],\n",
      "       [5. , 3.6, 1.4, 0.2],\n",
      "       [5.4, 3.9, 1.7, 0.4],\n",
      "       [4.6, 3.4, 1.4, 0.3],\n",
      "       [5. , 3.4, 1.5, 0.2],\n",
      "       [4.4, 2.9, 1.4, 0.2],\n",
      "       [4.9, 3.1, 1.5, 0.1],\n",
      "       [5.4, 3.7, 1.5, 0.2],\n",
      "       [4.8, 3.4, 1.6, 0.2],\n",
      "       [4.8, 3. , 1.4, 0.1],\n",
      "       [4.3, 3. , 1.1, 0.1],\n",
      "       [5.8, 4. , 1.2, 0.2],\n",
      "       [5.7, 4.4, 1.5, 0.4],\n",
      "       [5.4, 3.9, 1.3, 0.4],\n",
      "       [5.1, 3.5, 1.4, 0.3],\n",
      "       [5.7, 3.8, 1.7, 0.3],\n",
      "       [5.1, 3.8, 1.5, 0.3],\n",
      "       [5.4, 3.4, 1.7, 0.2],\n",
      "       [5.1, 3.7, 1.5, 0.4],\n",
      "       [4.6, 3.6, 1. , 0.2],\n",
      "       [5.1, 3.3, 1.7, 0.5],\n",
      "       [4.8, 3.4, 1.9, 0.2],\n",
      "       [5. , 3. , 1.6, 0.2],\n",
      "       [5. , 3.4, 1.6, 0.4],\n",
      "       [5.2, 3.5, 1.5, 0.2],\n",
      "       [5.2, 3.4, 1.4, 0.2],\n",
      "       [4.7, 3.2, 1.6, 0.2],\n",
      "       [4.8, 3.1, 1.6, 0.2],\n",
      "       [5.4, 3.4, 1.5, 0.4],\n",
      "       [5.2, 4.1, 1.5, 0.1],\n",
      "       [5.5, 4.2, 1.4, 0.2],\n",
      "       [4.9, 3.1, 1.5, 0.2],\n",
      "       [5. , 3.2, 1.2, 0.2],\n",
      "       [5.5, 3.5, 1.3, 0.2],\n",
      "       [4.9, 3.6, 1.4, 0.1],\n",
      "       [4.4, 3. , 1.3, 0.2],\n",
      "       [5.1, 3.4, 1.5, 0.2],\n",
      "       [5. , 3.5, 1.3, 0.3],\n",
      "       [4.5, 2.3, 1.3, 0.3],\n",
      "       [4.4, 3.2, 1.3, 0.2],\n",
      "       [5. , 3.5, 1.6, 0.6],\n",
      "       [5.1, 3.8, 1.9, 0.4],\n",
      "       [4.8, 3. , 1.4, 0.3],\n",
      "       [5.1, 3.8, 1.6, 0.2],\n",
      "       [4.6, 3.2, 1.4, 0.2],\n",
      "       [5.3, 3.7, 1.5, 0.2],\n",
      "       [5. , 3.3, 1.4, 0.2],\n",
      "       [7. , 3.2, 4.7, 1.4],\n",
      "       [6.4, 3.2, 4.5, 1.5],\n",
      "       [6.9, 3.1, 4.9, 1.5],\n",
      "       [5.5, 2.3, 4. , 1.3],\n",
      "       [6.5, 2.8, 4.6, 1.5],\n",
      "       [5.7, 2.8, 4.5, 1.3],\n",
      "       [6.3, 3.3, 4.7, 1.6],\n",
      "       [4.9, 2.4, 3.3, 1. ],\n",
      "       [6.6, 2.9, 4.6, 1.3],\n",
      "       [5.2, 2.7, 3.9, 1.4],\n",
      "       [5. , 2. , 3.5, 1. ],\n",
      "       [5.9, 3. , 4.2, 1.5],\n",
      "       [6. , 2.2, 4. , 1. ],\n",
      "       [6.1, 2.9, 4.7, 1.4],\n",
      "       [5.6, 2.9, 3.6, 1.3],\n",
      "       [6.7, 3.1, 4.4, 1.4],\n",
      "       [5.6, 3. , 4.5, 1.5],\n",
      "       [5.8, 2.7, 4.1, 1. ],\n",
      "       [6.2, 2.2, 4.5, 1.5],\n",
      "       [5.6, 2.5, 3.9, 1.1],\n",
      "       [5.9, 3.2, 4.8, 1.8],\n",
      "       [6.1, 2.8, 4. , 1.3],\n",
      "       [6.3, 2.5, 4.9, 1.5],\n",
      "       [6.1, 2.8, 4.7, 1.2],\n",
      "       [6.4, 2.9, 4.3, 1.3],\n",
      "       [6.6, 3. , 4.4, 1.4],\n",
      "       [6.8, 2.8, 4.8, 1.4],\n",
      "       [6.7, 3. , 5. , 1.7],\n",
      "       [6. , 2.9, 4.5, 1.5],\n",
      "       [5.7, 2.6, 3.5, 1. ],\n",
      "       [5.5, 2.4, 3.8, 1.1],\n",
      "       [5.5, 2.4, 3.7, 1. ],\n",
      "       [5.8, 2.7, 3.9, 1.2],\n",
      "       [6. , 2.7, 5.1, 1.6],\n",
      "       [5.4, 3. , 4.5, 1.5],\n",
      "       [6. , 3.4, 4.5, 1.6],\n",
      "       [6.7, 3.1, 4.7, 1.5],\n",
      "       [6.3, 2.3, 4.4, 1.3],\n",
      "       [5.6, 3. , 4.1, 1.3],\n",
      "       [5.5, 2.5, 4. , 1.3],\n",
      "       [5.5, 2.6, 4.4, 1.2],\n",
      "       [6.1, 3. , 4.6, 1.4],\n",
      "       [5.8, 2.6, 4. , 1.2],\n",
      "       [5. , 2.3, 3.3, 1. ],\n",
      "       [5.6, 2.7, 4.2, 1.3],\n",
      "       [5.7, 3. , 4.2, 1.2],\n",
      "       [5.7, 2.9, 4.2, 1.3],\n",
      "       [6.2, 2.9, 4.3, 1.3],\n",
      "       [5.1, 2.5, 3. , 1.1],\n",
      "       [5.7, 2.8, 4.1, 1.3],\n",
      "       [6.3, 3.3, 6. , 2.5],\n",
      "       [5.8, 2.7, 5.1, 1.9],\n",
      "       [7.1, 3. , 5.9, 2.1],\n",
      "       [6.3, 2.9, 5.6, 1.8],\n",
      "       [6.5, 3. , 5.8, 2.2],\n",
      "       [7.6, 3. , 6.6, 2.1],\n",
      "       [4.9, 2.5, 4.5, 1.7],\n",
      "       [7.3, 2.9, 6.3, 1.8],\n",
      "       [6.7, 2.5, 5.8, 1.8],\n",
      "       [7.2, 3.6, 6.1, 2.5],\n",
      "       [6.5, 3.2, 5.1, 2. ],\n",
      "       [6.4, 2.7, 5.3, 1.9],\n",
      "       [6.8, 3. , 5.5, 2.1],\n",
      "       [5.7, 2.5, 5. , 2. ],\n",
      "       [5.8, 2.8, 5.1, 2.4],\n",
      "       [6.4, 3.2, 5.3, 2.3],\n",
      "       [6.5, 3. , 5.5, 1.8],\n",
      "       [7.7, 3.8, 6.7, 2.2],\n",
      "       [7.7, 2.6, 6.9, 2.3],\n",
      "       [6. , 2.2, 5. , 1.5],\n",
      "       [6.9, 3.2, 5.7, 2.3],\n",
      "       [5.6, 2.8, 4.9, 2. ],\n",
      "       [7.7, 2.8, 6.7, 2. ],\n",
      "       [6.3, 2.7, 4.9, 1.8],\n",
      "       [6.7, 3.3, 5.7, 2.1],\n",
      "       [7.2, 3.2, 6. , 1.8],\n",
      "       [6.2, 2.8, 4.8, 1.8],\n",
      "       [6.1, 3. , 4.9, 1.8],\n",
      "       [6.4, 2.8, 5.6, 2.1],\n",
      "       [7.2, 3. , 5.8, 1.6],\n",
      "       [7.4, 2.8, 6.1, 1.9],\n",
      "       [7.9, 3.8, 6.4, 2. ],\n",
      "       [6.4, 2.8, 5.6, 2.2],\n",
      "       [6.3, 2.8, 5.1, 1.5],\n",
      "       [6.1, 2.6, 5.6, 1.4],\n",
      "       [7.7, 3. , 6.1, 2.3],\n",
      "       [6.3, 3.4, 5.6, 2.4],\n",
      "       [6.4, 3.1, 5.5, 1.8],\n",
      "       [6. , 3. , 4.8, 1.8],\n",
      "       [6.9, 3.1, 5.4, 2.1],\n",
      "       [6.7, 3.1, 5.6, 2.4],\n",
      "       [6.9, 3.1, 5.1, 2.3],\n",
      "       [5.8, 2.7, 5.1, 1.9],\n",
      "       [6.8, 3.2, 5.9, 2.3],\n",
      "       [6.7, 3.3, 5.7, 2.5],\n",
      "       [6.7, 3. , 5.2, 2.3],\n",
      "       [6.3, 2.5, 5. , 1.9],\n",
      "       [6.5, 3. , 5.2, 2. ],\n",
      "       [6.2, 3.4, 5.4, 2.3],\n",
      "       [5.9, 3. , 5.1, 1.8]]),\n",
      " 'data_module': 'sklearn.datasets.data',\n",
      " 'feature_names': ['sepal length (cm)',\n",
      "                   'sepal width (cm)',\n",
      "                   'petal length (cm)',\n",
      "                   'petal width (cm)'],\n",
      " 'filename': 'iris.csv',\n",
      " 'frame': None,\n",
      " 'target': array([0, 0, 0, 0, 0, 0, 0, 0, 0, 0, 0, 0, 0, 0, 0, 0, 0, 0, 0, 0, 0, 0,\n",
      "       0, 0, 0, 0, 0, 0, 0, 0, 0, 0, 0, 0, 0, 0, 0, 0, 0, 0, 0, 0, 0, 0,\n",
      "       0, 0, 0, 0, 0, 0, 1, 1, 1, 1, 1, 1, 1, 1, 1, 1, 1, 1, 1, 1, 1, 1,\n",
      "       1, 1, 1, 1, 1, 1, 1, 1, 1, 1, 1, 1, 1, 1, 1, 1, 1, 1, 1, 1, 1, 1,\n",
      "       1, 1, 1, 1, 1, 1, 1, 1, 1, 1, 1, 1, 2, 2, 2, 2, 2, 2, 2, 2, 2, 2,\n",
      "       2, 2, 2, 2, 2, 2, 2, 2, 2, 2, 2, 2, 2, 2, 2, 2, 2, 2, 2, 2, 2, 2,\n",
      "       2, 2, 2, 2, 2, 2, 2, 2, 2, 2, 2, 2, 2, 2, 2, 2, 2, 2]),\n",
      " 'target_names': array(['setosa', 'versicolor', 'virginica'], dtype='<U10')}\n"
     ]
    }
   ],
   "source": [
    "type(iris['target'])"
   ],
   "metadata": {
    "collapsed": false,
    "ExecuteTime": {
     "end_time": "2023-06-07T10:27:12.455551Z",
     "start_time": "2023-06-07T10:27:12.447273Z"
    }
   }
  },
  {
   "cell_type": "code",
   "metadata": {
    "id": "Qg7vOpDT20F5",
    "executionInfo": {
     "status": "ok",
     "timestamp": 1603101516044,
     "user_tz": -540,
     "elapsed": 22609,
     "user": {
      "displayName": "斎藤勇哉",
      "photoUrl": "",
      "userId": "04901706568829922240"
     }
    },
    "outputId": "05666252-a6a4-4945-e067-a88c7950ee21",
    "colab": {
     "base_uri": "https://localhost:8080/",
     "height": 1000
    },
    "ExecuteTime": {
     "end_time": "2023-06-07T10:27:19.408800Z",
     "start_time": "2023-06-07T10:27:19.399439Z"
    }
   },
   "source": [
    "# データセットの説明\n",
    "print(iris.DESCR)"
   ],
   "execution_count": 5,
   "outputs": [
    {
     "data": {
      "text/plain": "numpy.ndarray"
     },
     "execution_count": 5,
     "metadata": {},
     "output_type": "execute_result"
    }
   ]
  },
  {
   "cell_type": "code",
   "metadata": {
    "id": "BxWg8ORg23TN",
    "executionInfo": {
     "status": "ok",
     "timestamp": 1603101516044,
     "user_tz": -540,
     "elapsed": 22604,
     "user": {
      "displayName": "斎藤勇哉",
      "photoUrl": "",
      "userId": "04901706568829922240"
     }
    },
    "outputId": "1a0fc3fc-0b0b-482f-a986-e8bab2a357ef",
    "colab": {
     "base_uri": "https://localhost:8080/",
     "height": 123
    },
    "ExecuteTime": {
     "end_time": "2023-06-07T10:27:29.793215Z",
     "start_time": "2023-06-07T10:27:29.788747Z"
    }
   },
   "source": [
    "# データフレームに変換\n",
    "df = pd.DataFrame(iris.data, columns=iris.feature_names)\n",
    "print(df.head())"
   ],
   "execution_count": 6,
   "outputs": [
    {
     "name": "stdout",
     "output_type": "stream",
     "text": [
      ".. _iris_dataset:\n",
      "\n",
      "Iris plants dataset\n",
      "--------------------\n",
      "\n",
      "**Data Set Characteristics:**\n",
      "\n",
      "    :Number of Instances: 150 (50 in each of three classes)\n",
      "    :Number of Attributes: 4 numeric, predictive attributes and the class\n",
      "    :Attribute Information:\n",
      "        - sepal length in cm\n",
      "        - sepal width in cm\n",
      "        - petal length in cm\n",
      "        - petal width in cm\n",
      "        - class:\n",
      "                - Iris-Setosa\n",
      "                - Iris-Versicolour\n",
      "                - Iris-Virginica\n",
      "                \n",
      "    :Summary Statistics:\n",
      "\n",
      "    ============== ==== ==== ======= ===== ====================\n",
      "                    Min  Max   Mean    SD   Class Correlation\n",
      "    ============== ==== ==== ======= ===== ====================\n",
      "    sepal length:   4.3  7.9   5.84   0.83    0.7826\n",
      "    sepal width:    2.0  4.4   3.05   0.43   -0.4194\n",
      "    petal length:   1.0  6.9   3.76   1.76    0.9490  (high!)\n",
      "    petal width:    0.1  2.5   1.20   0.76    0.9565  (high!)\n",
      "    ============== ==== ==== ======= ===== ====================\n",
      "\n",
      "    :Missing Attribute Values: None\n",
      "    :Class Distribution: 33.3% for each of 3 classes.\n",
      "    :Creator: R.A. Fisher\n",
      "    :Donor: Michael Marshall (MARSHALL%PLU@io.arc.nasa.gov)\n",
      "    :Date: July, 1988\n",
      "\n",
      "The famous Iris database, first used by Sir R.A. Fisher. The dataset is taken\n",
      "from Fisher's paper. Note that it's the same as in R, but not as in the UCI\n",
      "Machine Learning Repository, which has two wrong data points.\n",
      "\n",
      "This is perhaps the best known database to be found in the\n",
      "pattern recognition literature.  Fisher's paper is a classic in the field and\n",
      "is referenced frequently to this day.  (See Duda & Hart, for example.)  The\n",
      "data set contains 3 classes of 50 instances each, where each class refers to a\n",
      "type of iris plant.  One class is linearly separable from the other 2; the\n",
      "latter are NOT linearly separable from each other.\n",
      "\n",
      ".. topic:: References\n",
      "\n",
      "   - Fisher, R.A. \"The use of multiple measurements in taxonomic problems\"\n",
      "     Annual Eugenics, 7, Part II, 179-188 (1936); also in \"Contributions to\n",
      "     Mathematical Statistics\" (John Wiley, NY, 1950).\n",
      "   - Duda, R.O., & Hart, P.E. (1973) Pattern Classification and Scene Analysis.\n",
      "     (Q327.D83) John Wiley & Sons.  ISBN 0-471-22361-1.  See page 218.\n",
      "   - Dasarathy, B.V. (1980) \"Nosing Around the Neighborhood: A New System\n",
      "     Structure and Classification Rule for Recognition in Partially Exposed\n",
      "     Environments\".  IEEE Transactions on Pattern Analysis and Machine\n",
      "     Intelligence, Vol. PAMI-2, No. 1, 67-71.\n",
      "   - Gates, G.W. (1972) \"The Reduced Nearest Neighbor Rule\".  IEEE Transactions\n",
      "     on Information Theory, May 1972, 431-433.\n",
      "   - See also: 1988 MLC Proceedings, 54-64.  Cheeseman et al\"s AUTOCLASS II\n",
      "     conceptual clustering system finds 3 classes in the data.\n",
      "   - Many, many more ...\n"
     ]
    }
   ]
  },
  {
   "cell_type": "code",
   "metadata": {
    "id": "JzO-xRgw2_-P",
    "executionInfo": {
     "status": "ok",
     "timestamp": 1603101516044,
     "user_tz": -540,
     "elapsed": 22598,
     "user": {
      "displayName": "斎藤勇哉",
      "photoUrl": "",
      "userId": "04901706568829922240"
     }
    },
    "outputId": "93653659-ae50-400d-9ebb-10056c9bf902",
    "colab": {
     "base_uri": "https://localhost:8080/",
     "height": 158
    },
    "ExecuteTime": {
     "end_time": "2023-06-07T10:28:27.685510Z",
     "start_time": "2023-06-07T10:28:27.676345Z"
    }
   },
   "source": [
    "# 品種の追加\n",
    "df['Variety'] = iris.target\n",
    "df.loc[df['Variety'] == 0, 'Variety'] = 'setosa'\n",
    "df.loc[df['Variety'] == 1, 'Variety'] = 'versicolor'\n",
    "df.loc[df['Variety'] == 2, 'Variety'] = 'virginica'\n",
    "print(df.head())"
   ],
   "execution_count": 7,
   "outputs": [
    {
     "name": "stdout",
     "output_type": "stream",
     "text": [
      "   sepal length (cm)  sepal width (cm)  petal length (cm)  petal width (cm)\n",
      "0                5.1               3.5                1.4               0.2\n",
      "1                4.9               3.0                1.4               0.2\n",
      "2                4.7               3.2                1.3               0.2\n",
      "3                4.6               3.1                1.5               0.2\n",
      "4                5.0               3.6                1.4               0.2\n"
     ]
    }
   ]
  },
  {
   "cell_type": "code",
   "metadata": {
    "id": "hFVWLfGR3CPT",
    "executionInfo": {
     "status": "ok",
     "timestamp": 1603101516045,
     "user_tz": -540,
     "elapsed": 22594,
     "user": {
      "displayName": "斎藤勇哉",
      "photoUrl": "",
      "userId": "04901706568829922240"
     }
    },
    "outputId": "97d6ab1c-7c70-4469-caf3-9f213ed9c745",
    "colab": {
     "base_uri": "https://localhost:8080/",
     "height": 176
    }
   },
   "source": [
    "# 基本統計量の確認\n",
    "print(df.describe())"
   ],
   "execution_count": null,
   "outputs": []
  },
  {
   "cell_type": "code",
   "metadata": {
    "id": "GXjzxj263EDb",
    "executionInfo": {
     "status": "ok",
     "timestamp": 1603101523000,
     "user_tz": -540,
     "elapsed": 29544,
     "user": {
      "displayName": "斎藤勇哉",
      "photoUrl": "",
      "userId": "04901706568829922240"
     }
    },
    "outputId": "03cb1878-f5af-4f67-b28c-c86dab7d8b6d",
    "colab": {
     "base_uri": "https://localhost:8080/",
     "height": 725
    }
   },
   "source": [
    "# データセットの可視化\n",
    "sns.pairplot(df, hue='Variety')\n",
    "plt.show()"
   ],
   "execution_count": null,
   "outputs": []
  },
  {
   "cell_type": "markdown",
   "metadata": {
    "id": "8IAqpxjG3NYS"
   },
   "source": [
    "## 1.2. 前準備"
   ]
  },
  {
   "cell_type": "code",
   "metadata": {
    "id": "S_b0Suxh3GPH"
   },
   "source": [
    "# データセットの読み込み\n",
    "iris = load_iris()\n",
    "data = iris.data  # 特徴量\n",
    "label = iris.target  # ラベル（品種）"
   ],
   "execution_count": null,
   "outputs": []
  },
  {
   "cell_type": "code",
   "execution_count": null,
   "outputs": [],
   "source": [],
   "metadata": {
    "collapsed": false
   }
  },
  {
   "cell_type": "markdown",
   "metadata": {
    "id": "QI10VTuz3WQv"
   },
   "source": [
    "## 1.3. 訓練データとテストデータの用意"
   ]
  },
  {
   "cell_type": "code",
   "metadata": {
    "id": "cfzT7Hrw3Yb4",
    "executionInfo": {
     "status": "ok",
     "timestamp": 1603101523000,
     "user_tz": -540,
     "elapsed": 29525,
     "user": {
      "displayName": "斎藤勇哉",
      "photoUrl": "",
      "userId": "04901706568829922240"
     }
    },
    "outputId": "aeacefbc-f56f-4b38-9719-71ae8ea738c9",
    "colab": {
     "base_uri": "https://localhost:8080/",
     "height": 87
    }
   },
   "source": [
    "# 学習データとテストデータを分割\n",
    "train_data, test_data, train_label, test_label = train_test_split(\n",
    "    data, label, test_size=0.2)\n",
    "\n",
    "# 学習データとテストデータのサイズの確認\n",
    "print(\"train_data size: {}\".format(len(train_data)))\n",
    "print(\"test_data size: {}\".format(len(test_data)))\n",
    "print(\"train_label size: {}\".format(len(train_label)))\n",
    "print(\"test_label size: {}\".format(len(test_label)))"
   ],
   "execution_count": null,
   "outputs": []
  },
  {
   "cell_type": "code",
   "metadata": {
    "id": "WDefxCZi3aFd",
    "ExecuteTime": {
     "end_time": "2023-05-24T03:17:03.164462Z",
     "start_time": "2023-05-24T03:17:03.157984Z"
    }
   },
   "source": [
    "# ndarrayをPyTorchのTensorに変換\n",
    "train_x = torch.Tensor(train_data)\n",
    "test_x = torch.Tensor(test_data)\n",
    "train_y = torch.LongTensor(train_label)  # torch.int64のデータ型に\n",
    "test_y = torch.LongTensor(test_label)  # torch.int64のデータ型に"
   ],
   "execution_count": 11,
   "outputs": []
  },
  {
   "cell_type": "code",
   "metadata": {
    "id": "c0HE-4Hl3cVQ",
    "ExecuteTime": {
     "end_time": "2023-05-24T03:17:05.301532Z",
     "start_time": "2023-05-24T03:17:05.297746Z"
    }
   },
   "source": [
    "# 特徴量とラベルを結合したデータセットを作成\n",
    "train_dataset = TensorDataset(train_x, train_y)\n",
    "test_dataset = TensorDataset(test_x, test_y)"
   ],
   "execution_count": 12,
   "outputs": []
  },
  {
   "cell_type": "code",
   "metadata": {
    "id": "LDKHxoUK3dhN",
    "executionInfo": {
     "status": "ok",
     "timestamp": 1603101523002,
     "user_tz": -540,
     "elapsed": 29504,
     "user": {
      "displayName": "斎藤勇哉",
      "photoUrl": "",
      "userId": "04901706568829922240"
     }
    },
    "outputId": "e808029f-3011-4500-dd05-0e974777f671",
    "colab": {
     "base_uri": "https://localhost:8080/",
     "height": 52
    }
   },
   "source": [
    "# ミニバッチサイズを指定したデータローダーを作成\n",
    "train_batch = DataLoader(\n",
    "    dataset=train_dataset,  # データセットの指定\n",
    "    batch_size=5,  # バッチサイズの指定\n",
    "    shuffle=True,  # シャッフルするかどうかの指定\n",
    "    num_workers=2)  # コアの数\n",
    "test_batch = DataLoader(\n",
    "    dataset=test_dataset,\n",
    "    batch_size=5,\n",
    "    shuffle=False,\n",
    "    num_workers=2)\n",
    "\n",
    "# ミニバッチデータセットの確認\n",
    "for data, label in train_batch:\n",
    "    print(\"batch data size: {}\".format(data.size()))  # バッチの入力データサイズ\n",
    "    print(\"batch label size: {}\".format(label.size()))  # バッチのラベルサイズ\n",
    "    break"
   ],
   "execution_count": null,
   "outputs": []
  },
  {
   "cell_type": "markdown",
   "metadata": {
    "id": "JmkhKtNC3f2n"
   },
   "source": [
    "## 1.4. ニューラルネットワークの定義"
   ]
  },
  {
   "cell_type": "code",
   "metadata": {
    "id": "caL2VyjF3ehM",
    "ExecuteTime": {
     "end_time": "2023-05-24T03:17:14.044216Z",
     "start_time": "2023-05-24T03:17:14.041085Z"
    }
   },
   "source": [
    "# ニューラルネットワークの定義\n",
    "class Net(nn.Module):\n",
    "    def __init__(self, D_in, H, D_out):\n",
    "        super(Net, self).__init__()\n",
    "        self.linear1 = torch.nn.Linear(D_in, H)\n",
    "        self.linear2 = torch.nn.Linear(H, D_out)\n",
    "\n",
    "    def forward(self, x):\n",
    "        x = F.relu(self.linear1(x))\n",
    "        x = self.linear2(x)\n",
    "        return x"
   ],
   "execution_count": 14,
   "outputs": []
  },
  {
   "cell_type": "code",
   "metadata": {
    "id": "PA4UaoKi3jFO",
    "ExecuteTime": {
     "end_time": "2023-05-24T03:17:32.901923Z",
     "start_time": "2023-05-24T03:17:32.898249Z"
    }
   },
   "source": [
    "# ハイパーパラメータの定義\n",
    "D_in = 4  # 入力次元: 4\n",
    "H = 100  # 隠れ層次元: 100\n",
    "D_out = 3  # 出力次元: 3\n",
    "epoch = 100  # 学習回数"
   ],
   "execution_count": 15,
   "outputs": []
  },
  {
   "cell_type": "code",
   "metadata": {
    "id": "b54ZDXnd3j6x",
    "executionInfo": {
     "status": "ok",
     "timestamp": 1603101532069,
     "user_tz": -540,
     "elapsed": 38548,
     "user": {
      "displayName": "斎藤勇哉",
      "photoUrl": "",
      "userId": "04901706568829922240"
     }
    },
    "outputId": "e34028b8-898c-4dff-b5f0-a6aa07d7a67c",
    "colab": {
     "base_uri": "https://localhost:8080/",
     "height": 34
    }
   },
   "source": [
    "# ネットワークのロード\n",
    "# CPUとGPUどちらを使うかを指定\n",
    "# device = torch.device('cuda' if torch.cuda.is_available() else 'cpu')\n",
    "device = torch.device('mps')\n",
    "\n",
    "net = Net(D_in, H, D_out).to(device)\n",
    "# デバイスの確認\n",
    "print(\"Device: {}\".format(device))"
   ],
   "execution_count": null,
   "outputs": []
  },
  {
   "cell_type": "markdown",
   "metadata": {
    "id": "SCi0ojdj3lw6"
   },
   "source": [
    "## 1.5. 損失関数と最適化関数の定義"
   ]
  },
  {
   "cell_type": "code",
   "metadata": {
    "id": "IK-7MsVT3k6n",
    "ExecuteTime": {
     "end_time": "2023-05-24T03:17:57.701067Z",
     "start_time": "2023-05-24T03:17:57.694612Z"
    }
   },
   "source": [
    "# 損失関数の定義\n",
    "criterion = nn.CrossEntropyLoss()\n",
    "\n",
    "# 最適化関数の定義\n",
    "optimizer = optim.Adam(net.parameters())"
   ],
   "execution_count": 17,
   "outputs": []
  },
  {
   "cell_type": "markdown",
   "metadata": {
    "id": "zr3gcqPV3pvp"
   },
   "source": [
    "## 1.6. 学習"
   ]
  },
  {
   "cell_type": "code",
   "metadata": {
    "id": "5cdxJ6Rq3o4G",
    "executionInfo": {
     "status": "ok",
     "timestamp": 1603101557116,
     "user_tz": -540,
     "elapsed": 63577,
     "user": {
      "displayName": "斎藤勇哉",
      "photoUrl": "",
      "userId": "04901706568829922240"
     }
    },
    "outputId": "6acc02cc-e112-4c8f-97e4-9f88c886ae6c",
    "colab": {
     "base_uri": "https://localhost:8080/",
     "height": 1000
    }
   },
   "source": [
    "# 損失と正解率を保存するリストを作成\n",
    "train_loss_list = []  # 学習損失\n",
    "train_accuracy_list = []  # 学習データの正答率\n",
    "test_loss_list = []  # 評価損失\n",
    "test_accuracy_list = []  # テストデータの正答率\n",
    "\n",
    "# 学習（エポック）の実行\n",
    "for i in range(epoch):\n",
    "    # エポックの進行状況を表示\n",
    "    print('---------------------------------------------')\n",
    "    print(\"Epoch: {}/{}\".format(i+1, epoch))\n",
    "\n",
    "    # 損失と正解率の初期化\n",
    "    train_loss = 0  # 学習損失\n",
    "    train_accuracy = 0  # 学習データの正答数\n",
    "    test_loss = 0  # 評価損失\n",
    "    test_accuracy = 0  # テストデータの正答数\n",
    "\n",
    "    # ---------学習パート--------- #\n",
    "    # ニューラルネットワークを学習モードに設定\n",
    "    net.train()\n",
    "    # ミニバッチごとにデータをロードし学習\n",
    "    for data, label in train_batch:\n",
    "        # GPUにTensorを転送\n",
    "        data = data.to(device)\n",
    "        label = label.to(device)\n",
    "\n",
    "        # 勾配を初期化\n",
    "        optimizer.zero_grad()\n",
    "        # データを入力して予測値を計算（順伝播）\n",
    "        y_pred_prob = net(data)\n",
    "        # 損失（誤差）を計算\n",
    "        loss = criterion(y_pred_prob, label)\n",
    "        # 勾配の計算（逆伝搬）\n",
    "        loss.backward()\n",
    "        # パラメータ（重み）の更新\n",
    "        optimizer.step()\n",
    "\n",
    "        # ミニバッチごとの損失を蓄積\n",
    "        train_loss += loss.item()\n",
    "\n",
    "        # 予測したラベルを予測確率y_pred_probから計算\n",
    "        y_pred_label = torch.max(y_pred_prob, 1)[1]\n",
    "        # ミニバッチごとに正解したラベル数をカウント\n",
    "        train_accuracy += torch.sum(y_pred_label == label).item() / len(label)\n",
    "\n",
    "    # ミニバッチの平均の損失と正解率を計算\n",
    "    batch_train_loss = train_loss / len(train_batch)\n",
    "    batch_train_accuracy = train_accuracy / len(train_batch)\n",
    "    # ---------学習パートはここまで--------- #\n",
    "\n",
    "    # ---------評価パート--------- #\n",
    "    # ニューラルネットワークを評価モードに設定\n",
    "    net.eval()\n",
    "    # 評価時の計算で自動微分機能をオフにする\n",
    "    with torch.no_grad():\n",
    "        for data, label in test_batch:\n",
    "            # GPUにTensorを転送\n",
    "            data = data.to(device)\n",
    "            label = label.to(device)\n",
    "            # データを入力して予測値を計算（順伝播）\n",
    "            y_pred_prob = net(data)\n",
    "            # 損失（誤差）を計算\n",
    "            loss = criterion(y_pred_prob, label)\n",
    "            # ミニバッチごとの損失を蓄積\n",
    "            test_loss += loss.item()\n",
    "\n",
    "            # 予測したラベルを予測確率y_pred_probから計算\n",
    "            y_pred_label = torch.max(y_pred_prob, 1)[1]\n",
    "            # ミニバッチごとに正解したラベル数をカウント\n",
    "            test_accuracy += torch.sum(y_pred_label == label).item() / len(label)\n",
    "    # ミニバッチの平均の損失と正解率を計算\n",
    "    batch_test_loss = test_loss / len(test_batch)\n",
    "    batch_test_accuracy = test_accuracy / len(test_batch)\n",
    "    # ---------評価パートはここまで--------- #\n",
    "\n",
    "    # エポックごとに損失と正解率を表示\n",
    "    print(\"Train_Loss: {:.4f} Train_Accuracy: {:.4f}\".format(\n",
    "        batch_train_loss, batch_train_accuracy))\n",
    "    print(\"Test_Loss: {:.4f} Test_Accuracy: {:.4f}\".format(\n",
    "        batch_test_loss, batch_test_accuracy))\n",
    "\n",
    "    # 損失と正解率をリスト化して保存\n",
    "    train_loss_list.append(batch_train_loss)\n",
    "    train_accuracy_list.append(batch_train_accuracy)\n",
    "    test_loss_list.append(batch_test_loss)\n",
    "    test_accuracy_list.append(batch_test_accuracy)"
   ],
   "execution_count": null,
   "outputs": []
  },
  {
   "cell_type": "markdown",
   "metadata": {
    "id": "ELW8Rkph3vFw"
   },
   "source": [
    "## 1.7. 結果の可視化"
   ]
  },
  {
   "cell_type": "code",
   "metadata": {
    "id": "hcm4QGVq3wSY",
    "executionInfo": {
     "status": "ok",
     "timestamp": 1603101557702,
     "user_tz": -540,
     "elapsed": 64155,
     "user": {
      "displayName": "斎藤勇哉",
      "photoUrl": "",
      "userId": "04901706568829922240"
     }
    },
    "outputId": "9fa22a53-0f84-473f-bfc1-333f07ebde8d",
    "colab": {
     "base_uri": "https://localhost:8080/",
     "height": 573
    }
   },
   "source": [
    "# 損失\n",
    "plt.figure()\n",
    "plt.title('Train and Test Loss')\n",
    "plt.xlabel('Epoch')\n",
    "plt.ylabel('Loss')\n",
    "plt.plot(range(1, epoch+1), train_loss_list, color='blue',\n",
    "         linestyle='-', label='Train_Loss')\n",
    "plt.plot(range(1, epoch+1), test_loss_list, color='red',\n",
    "         linestyle='--', label='Test_Loss')\n",
    "plt.legend()  # 凡例\n",
    "\n",
    "# 正解率\n",
    "plt.figure()\n",
    "plt.title('Train and Test Accuracy')\n",
    "plt.xlabel('Epoch')\n",
    "plt.ylabel('Accuracy')\n",
    "plt.plot(range(1, epoch+1), train_accuracy_list, color='blue',\n",
    "         linestyle='-', label='Train_Accuracy')\n",
    "plt.plot(range(1, epoch+1), test_accuracy_list, color='red',\n",
    "         linestyle='--', label='Test_Accuracy')\n",
    "plt.legend()\n",
    "\n",
    "# 表示\n",
    "plt.show()"
   ],
   "execution_count": null,
   "outputs": []
  },
  {
   "cell_type": "markdown",
   "metadata": {
    "id": "5GY7Kiaq39Pb"
   },
   "source": [
    "## 1.8. 新たにテスト用のデータセットを用意して推定したい場合"
   ]
  },
  {
   "cell_type": "code",
   "metadata": {
    "id": "6LL7SWB738RY",
    "ExecuteTime": {
     "end_time": "2023-05-24T03:23:33.698361Z",
     "start_time": "2023-05-24T03:23:33.693808Z"
    }
   },
   "source": [
    "# CPUとGPUどちらを使うかを指定\n",
    "# device = torch.device('cuda' if torch.cuda.is_available() else 'cpu')\n",
    "# 学習パラメータを保存\n",
    "torch.save(net.to(device).state_dict(), '3-2_iris_net.pth')"
   ],
   "execution_count": 20,
   "outputs": []
  },
  {
   "cell_type": "code",
   "metadata": {
    "id": "J2lGB1j04A04",
    "executionInfo": {
     "status": "ok",
     "timestamp": 1603101557703,
     "user_tz": -540,
     "elapsed": 64141,
     "user": {
      "displayName": "斎藤勇哉",
      "photoUrl": "",
      "userId": "04901706568829922240"
     }
    },
    "outputId": "7edda885-e2de-485f-93e3-8b4ed6f2e5b0",
    "colab": {
     "base_uri": "https://localhost:8080/",
     "height": 34
    },
    "ExecuteTime": {
     "end_time": "2023-05-24T03:23:43.098913Z",
     "start_time": "2023-05-24T03:23:43.093710Z"
    }
   },
   "source": [
    "# ハイパーパラメータの定義\n",
    "D_in = 4  # 入力次元: 4\n",
    "H = 100  # 隠れ層次元: 100\n",
    "D_out = 3  # 出力次元: 3\n",
    "\n",
    "# 保存した学習パラメータを読み込む\n",
    "net2 = Net(D_in, H, D_out).to(device)\n",
    "net2.load_state_dict(torch.load('3-2_iris_net.pth', map_location=device))"
   ],
   "execution_count": 21,
   "outputs": [
    {
     "data": {
      "text/plain": "<All keys matched successfully>"
     },
     "execution_count": 21,
     "metadata": {},
     "output_type": "execute_result"
    }
   ]
  },
  {
   "cell_type": "code",
   "metadata": {
    "id": "UquHHIrh4CMn",
    "executionInfo": {
     "status": "ok",
     "timestamp": 1603101557704,
     "user_tz": -540,
     "elapsed": 64134,
     "user": {
      "displayName": "斎藤勇哉",
      "photoUrl": "",
      "userId": "04901706568829922240"
     }
    },
    "outputId": "8e5041ac-d998-4488-ad12-d5f30a339b8d",
    "colab": {
     "base_uri": "https://localhost:8080/",
     "height": 34
    },
    "ExecuteTime": {
     "end_time": "2023-05-24T03:23:50.647962Z",
     "start_time": "2023-05-24T03:23:49.484938Z"
    }
   },
   "source": [
    "# ニューラルネットワークを評価モードに設定\n",
    "net2.eval()\n",
    "# 推定時の計算で自動微分機能をオフにする\n",
    "with torch.no_grad():\n",
    "    # 初期化\n",
    "    test_accuracy = 0\n",
    "    for data, label in test_batch:\n",
    "        # GPUにTensorを転送\n",
    "        data = data.to(device)\n",
    "        label = label.to(device)\n",
    "        # データを入力して予測値を計算（順伝播）\n",
    "        y_pred_prob = net(data)\n",
    "        # 予測したラベルを予測確率y_pred_probから計算\n",
    "        y_pred_label = torch.max(y_pred_prob, 1)[1]\n",
    "        # ミニバッチごとに正解したラベル数をカウント\n",
    "        test_accuracy += torch.sum(y_pred_label == label).item() / len(label)\n",
    "# ミニバッチの平均の損失と正解率を計算\n",
    "batch_test_accuracy = test_accuracy / len(test_batch)\n",
    "# 正解率を表示\n",
    "print(\"Accuracy: {:.3f}\".format(batch_test_accuracy))"
   ],
   "execution_count": 22,
   "outputs": [
    {
     "name": "stdout",
     "output_type": "stream",
     "text": [
      "Accuracy: 0.933\n"
     ]
    }
   ]
  },
  {
   "cell_type": "code",
   "execution_count": null,
   "outputs": [],
   "source": [],
   "metadata": {
    "collapsed": false
   }
  }
 ]
}
