{
 "nbformat": 4,
 "nbformat_minor": 0,
 "metadata": {
  "colab": {
   "name": "Section5-2.ipynb",
   "provenance": [],
   "collapsed_sections": []
  },
  "kernelspec": {
   "name": "python3",
   "display_name": "Python 3"
  },
  "accelerator": "GPU"
 },
 "cells": [
  {
   "cell_type": "markdown",
   "metadata": {
    "id": "ET2dJH0jMic6"
   },
   "source": [
    "# Chapter5 再帰型ニューラルネットワーク（時系列データの予測）　～株価予測プログラムを作る～\n",
    "## 2. 株価予測【サンプルコード】"
   ]
  },
  {
   "cell_type": "markdown",
   "metadata": {
    "id": "IsA94H3VMoFB"
   },
   "source": [
    "## 2.1. 前準備（パッケージのインポート）"
   ]
  },
  {
   "cell_type": "code",
   "metadata": {
    "id": "pjIzNM9TMsZc"
   },
   "source": [
    "# 必要なパッケージのインストール\n",
    "import numpy as np\n",
    "import pandas as pd\n",
    "import matplotlib.pyplot as plt\n",
    "from sklearn.preprocessing import StandardScaler\n",
    "from sklearn.metrics import mean_absolute_error\n",
    "import torch\n",
    "from torch.utils.data import TensorDataset, DataLoader\n",
    "from torch import nn\n",
    "import torch.nn.functional as F\n",
    "from torch import optim"
   ],
   "execution_count": null,
   "outputs": []
  },
  {
   "cell_type": "markdown",
   "metadata": {
    "id": "zLuRF9DaNCU7"
   },
   "source": [
    "## 2.2. 訓練データとテストデータの用意"
   ]
  },
  {
   "cell_type": "code",
   "metadata": {
    "id": "jU9kv0XYNDvo",
    "executionInfo": {
     "status": "ok",
     "timestamp": 1603111664380,
     "user_tz": -540,
     "elapsed": 923179,
     "user": {
      "displayName": "斎藤勇哉",
      "photoUrl": "",
      "userId": "04901706568829922240"
     }
    },
    "outputId": "b0640cbe-dc98-4f9b-adc1-aaa2b89ccfc2",
    "colab": {
     "base_uri": "https://localhost:8080/",
     "height": 158
    }
   },
   "source": [
    "# 株価データ(prices.csv)の読み込み\n",
    "dataset = pd.read_csv('prices.csv')\n",
    "# datasetの中身を確認\n",
    "print(dataset.head())"
   ],
   "execution_count": null,
   "outputs": []
  },
  {
   "cell_type": "code",
   "metadata": {
    "id": "T9emr_IZNK7-",
    "executionInfo": {
     "status": "ok",
     "timestamp": 1603111664992,
     "user_tz": -540,
     "elapsed": 923784,
     "user": {
      "displayName": "斎藤勇哉",
      "photoUrl": "",
      "userId": "04901706568829922240"
     }
    },
    "outputId": "bfc320f4-8610-492e-e9a2-a9c8f63d44af",
    "colab": {
     "base_uri": "https://localhost:8080/",
     "height": 34
    }
   },
   "source": [
    "# 銘柄(symbol)の確認\n",
    "symbols = list(set(dataset.symbol))\n",
    "len(\"The number of symbols: {}\".format(symbols))  # 銘柄数\n",
    "print(symbols[:10])  # 10件の銘柄を表示"
   ],
   "execution_count": null,
   "outputs": []
  },
  {
   "cell_type": "code",
   "metadata": {
    "id": "FxdLqrTDNMyb",
    "executionInfo": {
     "status": "ok",
     "timestamp": 1603111664993,
     "user_tz": -540,
     "elapsed": 923779,
     "user": {
      "displayName": "斎藤勇哉",
      "photoUrl": "",
      "userId": "04901706568829922240"
     }
    },
    "outputId": "3f922236-5a41-4110-d719-21b5e227e8ff",
    "colab": {
     "base_uri": "https://localhost:8080/",
     "height": 123
    }
   },
   "source": [
    "# ヤフー(YHOO)のみを抽出\n",
    "dataset = dataset[dataset['symbol'] == 'YHOO']\n",
    "print(dataset.head())"
   ],
   "execution_count": null,
   "outputs": []
  },
  {
   "cell_type": "code",
   "metadata": {
    "id": "-Thgf-4WNOWo",
    "executionInfo": {
     "status": "ok",
     "timestamp": 1603111664993,
     "user_tz": -540,
     "elapsed": 923773,
     "user": {
      "displayName": "斎藤勇哉",
      "photoUrl": "",
      "userId": "04901706568829922240"
     }
    },
    "outputId": "8a58b90b-0dd4-4489-f57e-2249c814550a",
    "colab": {
     "base_uri": "https://localhost:8080/",
     "height": 123
    }
   },
   "source": [
    "# 始値(open)、安値(low)、高値(high)、出来高(volume)を消して、終値(close)のみを残す\n",
    "dataset = dataset.drop(['open', 'low', 'high', 'volume'], axis=1)\n",
    "print(dataset.head())"
   ],
   "execution_count": null,
   "outputs": []
  },
  {
   "cell_type": "code",
   "metadata": {
    "id": "J87qjR71NQzy",
    "executionInfo": {
     "status": "ok",
     "timestamp": 1603111664994,
     "user_tz": -540,
     "elapsed": 923768,
     "user": {
      "displayName": "斎藤勇哉",
      "photoUrl": "",
      "userId": "04901706568829922240"
     }
    },
    "outputId": "8ba2cb2e-0d64-428a-fdd6-cc13c5d24759",
    "colab": {
     "base_uri": "https://localhost:8080/",
     "height": 123
    }
   },
   "source": [
    "# 終値の25日移動平均(25MA)を算出\n",
    "dataset['25MA'] = dataset['close'].rolling(window=25, min_periods=0).mean()\n",
    "print(dataset.head())"
   ],
   "execution_count": null,
   "outputs": []
  },
  {
   "cell_type": "code",
   "metadata": {
    "id": "5GyUyA1nMmwg",
    "executionInfo": {
     "status": "ok",
     "timestamp": 1603111664994,
     "user_tz": -540,
     "elapsed": 923763,
     "user": {
      "displayName": "斎藤勇哉",
      "photoUrl": "",
      "userId": "04901706568829922240"
     }
    },
    "outputId": "dc99438f-9fd3-46bc-eb4a-b253a0067fd6",
    "colab": {
     "base_uri": "https://localhost:8080/",
     "height": 52
    }
   },
   "source": [
    "# 日付(date)をobject型からdatetime64型に変換\n",
    "print(dataset['date'].dtype)  # 変換前のデータ型\n",
    "dataset['date'] = pd.to_datetime(dataset['date'])\n",
    "print(dataset['date'].dtype)  # 変換後のデータ型"
   ],
   "execution_count": null,
   "outputs": []
  },
  {
   "cell_type": "code",
   "metadata": {
    "id": "VZjWWw6XNTNL",
    "executionInfo": {
     "status": "ok",
     "timestamp": 1603111665694,
     "user_tz": -540,
     "elapsed": 924456,
     "user": {
      "displayName": "斎藤勇哉",
      "photoUrl": "",
      "userId": "04901706568829922240"
     }
    },
    "outputId": "5b4a2da0-8965-42c8-b686-546fc93b7eb5",
    "colab": {
     "base_uri": "https://localhost:8080/",
     "height": 294
    }
   },
   "source": [
    "# 終値と25日移動平均を図示\n",
    "plt.figure()\n",
    "plt.title('YHOO stock price')\n",
    "plt.xlabel('Date')\n",
    "plt.ylabel('Stock Price')\n",
    "# plt.xticks(np.arange(0, 180 + 1, 30))\n",
    "# plt.xticks(dataset['date'][::10].values)\n",
    "plt.plot(dataset['date'], dataset['close'], color='black',\n",
    "         linestyle='-', label='close')\n",
    "plt.plot(dataset['date'], dataset['25MA'], color='dodgerblue',\n",
    "         linestyle='--', label='25MA')\n",
    "plt.legend()  # 凡例\n",
    "plt.savefig('5-2_stock_price.png')  # 図の保存\n",
    "plt.show()"
   ],
   "execution_count": null,
   "outputs": []
  },
  {
   "cell_type": "code",
   "metadata": {
    "id": "5fg3b_-INUMA",
    "executionInfo": {
     "status": "ok",
     "timestamp": 1603111665695,
     "user_tz": -540,
     "elapsed": 924452,
     "user": {
      "displayName": "斎藤勇哉",
      "photoUrl": "",
      "userId": "04901706568829922240"
     }
    },
    "outputId": "9e8799a3-3406-4ccc-95d2-45f71726d2be",
    "colab": {
     "base_uri": "https://localhost:8080/",
     "height": 265
    }
   },
   "source": [
    "# 標準化\n",
    "ma = dataset['25MA'].values.reshape(-1, 1)\n",
    "scaler = StandardScaler()\n",
    "ma_std = scaler.fit_transform(ma)\n",
    "print(\"ma: {}\".format(ma))\n",
    "print(\"ma_std: {}\".format(ma_std))"
   ],
   "execution_count": null,
   "outputs": []
  },
  {
   "cell_type": "code",
   "metadata": {
    "id": "4Kt4xZdlNVKe",
    "executionInfo": {
     "status": "ok",
     "timestamp": 1603111665695,
     "user_tz": -540,
     "elapsed": 924445,
     "user": {
      "displayName": "斎藤勇哉",
      "photoUrl": "",
      "userId": "04901706568829922240"
     }
    },
    "outputId": "4d4a59db-9a0f-4956-867c-3ac24425a767",
    "colab": {
     "base_uri": "https://localhost:8080/",
     "height": 52
    }
   },
   "source": [
    "# 現在から過去25日分の株価の移動平均を入力値として、1日後の株価の移動平均を予測\n",
    "data = []  # 入力データ(過去25日分の移動平均)\n",
    "label = []  # 出力データ(1日後の移動平均)\n",
    "for i in range(len(ma_std) - 25):\n",
    "    data.append(ma_std[i:i + 25])\n",
    "    label.append(ma_std[i + 25])\n",
    "# ndarrayに変換\n",
    "data = np.array(data)\n",
    "label = np.array(label)\n",
    "print(\"data size: {}\".format(data.shape))\n",
    "print(\"label size: {}\".format(label.shape))"
   ],
   "execution_count": null,
   "outputs": []
  },
  {
   "cell_type": "code",
   "metadata": {
    "id": "OInb74jeNWcY",
    "executionInfo": {
     "status": "ok",
     "timestamp": 1603111665696,
     "user_tz": -540,
     "elapsed": 924441,
     "user": {
      "displayName": "斎藤勇哉",
      "photoUrl": "",
      "userId": "04901706568829922240"
     }
    },
    "outputId": "af7a1d93-0e1a-4f2f-e1b6-ac0ed6bb74ab",
    "colab": {
     "base_uri": "https://localhost:8080/",
     "height": 87
    }
   },
   "source": [
    "# 訓練データとテストデータのサイズを決定\n",
    "test_len = int(252)  # 1年分(252日分)\n",
    "train_len = int(data.shape[0] - test_len)\n",
    "# 訓練データの準備\n",
    "train_data = data[:train_len]\n",
    "train_label = label[:train_len]\n",
    "# テストデータの準備\n",
    "test_data = data[train_len:]\n",
    "test_label = label[train_len:]\n",
    "# データの形状を確認\n",
    "print(\"train_data size: {}\".format(train_data.shape))\n",
    "print(\"test_data size: {}\".format(test_data.shape))\n",
    "print(\"train_label size: {}\".format(train_label.shape))\n",
    "print(\"test_label size: {}\".format(test_label.shape))"
   ],
   "execution_count": null,
   "outputs": []
  },
  {
   "cell_type": "code",
   "metadata": {
    "id": "86MSECObNX7_"
   },
   "source": [
    "# ndarrayをPyTorchのTensorに変換\n",
    "train_x = torch.Tensor(train_data)\n",
    "test_x = torch.Tensor(test_data)\n",
    "train_y = torch.Tensor(train_label)\n",
    "test_y = torch.Tensor(test_label)"
   ],
   "execution_count": null,
   "outputs": []
  },
  {
   "cell_type": "code",
   "metadata": {
    "id": "afHwI44HNYyQ"
   },
   "source": [
    "# 特徴量とラベルを結合したデータセットを作成\n",
    "train_dataset = TensorDataset(train_x, train_y)\n",
    "test_dataset = TensorDataset(test_x, test_y)"
   ],
   "execution_count": null,
   "outputs": []
  },
  {
   "cell_type": "code",
   "metadata": {
    "id": "Duydu8EvNZ8M",
    "executionInfo": {
     "status": "ok",
     "timestamp": 1603111665697,
     "user_tz": -540,
     "elapsed": 924426,
     "user": {
      "displayName": "斎藤勇哉",
      "photoUrl": "",
      "userId": "04901706568829922240"
     }
    },
    "outputId": "5ff231f8-39ef-41ed-c2e9-480eb1517663",
    "colab": {
     "base_uri": "https://localhost:8080/",
     "height": 52
    }
   },
   "source": [
    "# ミニバッチサイズを指定したデータローダーを作成\n",
    "train_batch = DataLoader(\n",
    "    dataset=train_dataset,  # データセットの指定\n",
    "    batch_size=128,  # バッチサイズの指定\n",
    "    shuffle=True,  # シャッフルするかどうかの指定\n",
    "    num_workers=2)  # コアの数\n",
    "test_batch = DataLoader(\n",
    "    dataset=test_dataset,\n",
    "    batch_size=128,\n",
    "    shuffle=False,\n",
    "    num_workers=2)\n",
    "# ミニバッチデータセットの確認\n",
    "for data, label in train_batch:\n",
    "    print(\"batch data size: {}\".format(data.size()))  # バッチの入力データサイズ\n",
    "    print(\"batch label size: {}\".format(label.size()))  # バッチのラベルサイズ\n",
    "    break"
   ],
   "execution_count": null,
   "outputs": []
  },
  {
   "cell_type": "markdown",
   "metadata": {
    "id": "w4x05owZNaaG"
   },
   "source": [
    "## 2.3. ニューラルネットワークの定義"
   ]
  },
  {
   "cell_type": "code",
   "metadata": {
    "id": "j5Um8r3MNcOz"
   },
   "source": [
    "# ニューラルネットワークの定義\n",
    "class Net(nn.Module):\n",
    "    def __init__(self, D_in, H, D_out):\n",
    "        super(Net, self).__init__()\n",
    "        self.lstm = nn.LSTM(D_in, H, batch_first=True, num_layers=1)\n",
    "        self.linear = nn.Linear(H, D_out)\n",
    "\n",
    "    def forward(self, x):\n",
    "        output, (hidden, cell) = self.lstm(x)\n",
    "        output = self.linear(output[:, -1, :])  # 最後のステップのみを入力\n",
    "        return output"
   ],
   "execution_count": null,
   "outputs": []
  },
  {
   "cell_type": "code",
   "metadata": {
    "id": "uY4Ie_eANdnR"
   },
   "source": [
    "# ハイパーパラメータの定義\n",
    "D_in = 1  # 入力次元: 1\n",
    "H = 200  # 隠れ層次元: 200\n",
    "D_out = 1  # 出力次元: 1\n",
    "epoch = 100  # 学習回数: 100"
   ],
   "execution_count": null,
   "outputs": []
  },
  {
   "cell_type": "code",
   "metadata": {
    "id": "Q1v_v0ICNfBS",
    "executionInfo": {
     "status": "ok",
     "timestamp": 1603111673718,
     "user_tz": -540,
     "elapsed": 932434,
     "user": {
      "displayName": "斎藤勇哉",
      "photoUrl": "",
      "userId": "04901706568829922240"
     }
    },
    "outputId": "81f96eeb-275f-4197-c8e6-4a97415552e2",
    "colab": {
     "base_uri": "https://localhost:8080/",
     "height": 34
    }
   },
   "source": [
    "# ネットワークのロード\n",
    "# CPUとGPUどちらを使うかを指定\n",
    "device = torch.device('cuda' if torch.cuda.is_available() else 'cpu')\n",
    "net = Net(D_in, H, D_out).to(device)\n",
    "# デバイスの確認\n",
    "print(\"Device: {}\".format(device))"
   ],
   "execution_count": null,
   "outputs": []
  },
  {
   "cell_type": "markdown",
   "metadata": {
    "id": "DfD2GW6jNiB8"
   },
   "source": [
    "## 2.4. 損失関数と最適化関数の定義"
   ]
  },
  {
   "cell_type": "code",
   "metadata": {
    "id": "P_KLY1moMrDr"
   },
   "source": [
    "# 損失関数の定義\n",
    "criterion = nn.MSELoss()  # 損失関数（平均二乗誤差: MSE）\n",
    "\n",
    "# 最適化関数の定義\n",
    "optimizer = optim.Adam(net.parameters())"
   ],
   "execution_count": null,
   "outputs": []
  },
  {
   "cell_type": "markdown",
   "metadata": {
    "id": "J9i-C7-YNk_F"
   },
   "source": [
    "## 2.5. 学習"
   ]
  },
  {
   "cell_type": "code",
   "metadata": {
    "id": "GeK2vjwfNmP3",
    "executionInfo": {
     "status": "ok",
     "timestamp": 1603111706618,
     "user_tz": -540,
     "elapsed": 965323,
     "user": {
      "displayName": "斎藤勇哉",
      "photoUrl": "",
      "userId": "04901706568829922240"
     }
    },
    "outputId": "bb2a4ae5-9b9e-4116-e14a-b417baf5dbb4",
    "colab": {
     "base_uri": "https://localhost:8080/",
     "height": 1000
    }
   },
   "source": [
    "# 損失を保存するリストを作成\n",
    "train_loss_list = []  # 学習損失\n",
    "test_loss_list = []  # 評価損失\n",
    "\n",
    "# 学習（エポック）の実行\n",
    "for i in range(epoch):\n",
    "    # エポックの進行状況を表示\n",
    "    print('---------------------------------------------')\n",
    "    print(\"Epoch: {}/{}\".format(i+1, epoch))\n",
    "\n",
    "    # 損失の初期化\n",
    "    train_loss = 0  # 学習損失\n",
    "    test_loss = 0  # 評価損失\n",
    "\n",
    "    # ---------学習パート--------- #\n",
    "    # ニューラルネットワークを学習モードに設定\n",
    "    net.train()\n",
    "    # ミニバッチごとにデータをロードし学習\n",
    "    for data, label in train_batch:\n",
    "        # GPUにTensorを転送\n",
    "        data = data.to(device)\n",
    "        label = label.to(device)\n",
    "\n",
    "        # 勾配を初期化\n",
    "        optimizer.zero_grad()\n",
    "        # データを入力して予測値を計算（順伝播）\n",
    "        y_pred = net(data)\n",
    "        # 損失（誤差）を計算\n",
    "        loss = criterion(y_pred, label)\n",
    "        # 勾配の計算（逆伝搬）\n",
    "        loss.backward()\n",
    "        # パラメータ（重み）の更新\n",
    "        optimizer.step()\n",
    "        # ミニバッチごとの損失を蓄積\n",
    "        train_loss += loss.item()\n",
    "\n",
    "    # ミニバッチの平均の損失を計算\n",
    "    batch_train_loss = train_loss / len(train_batch)\n",
    "    # ---------学習パートはここまで--------- #\n",
    "\n",
    "    # ---------評価パート--------- #\n",
    "    # ニューラルネットワークを評価モードに設定\n",
    "    net.eval()\n",
    "    # 評価時の計算で自動微分機能をオフにする\n",
    "    with torch.no_grad():\n",
    "        for data, label in test_batch:\n",
    "            # GPUにTensorを転送\n",
    "            data = data.to(device)\n",
    "            label = label.to(device)\n",
    "            # データを入力して予測値を計算（順伝播）\n",
    "            y_pred = net(data)\n",
    "            # 損失（誤差）を計算\n",
    "            loss = criterion(y_pred, label)\n",
    "            # ミニバッチごとの損失を蓄積\n",
    "            test_loss += loss.item()\n",
    "\n",
    "    # ミニバッチの平均の損失を計算\n",
    "    batch_test_loss = test_loss / len(test_batch)\n",
    "    # ---------評価パートはここまで--------- #\n",
    "\n",
    "    # エポックごとに損失を表示\n",
    "    print(\"Train_Loss: {:.2E} Test_Loss: {:.2E}\".format(\n",
    "        batch_train_loss, batch_test_loss))\n",
    "    # 損失をリスト化して保存\n",
    "    train_loss_list.append(batch_train_loss)\n",
    "    test_loss_list.append(batch_test_loss)"
   ],
   "execution_count": null,
   "outputs": []
  },
  {
   "cell_type": "markdown",
   "metadata": {
    "id": "WkkbqSg-NorG"
   },
   "source": [
    "## 2.6. 結果の可視化"
   ]
  },
  {
   "cell_type": "code",
   "metadata": {
    "id": "PHg3RQvINp1Z",
    "executionInfo": {
     "status": "ok",
     "timestamp": 1603111706621,
     "user_tz": -540,
     "elapsed": 965320,
     "user": {
      "displayName": "斎藤勇哉",
      "photoUrl": "",
      "userId": "04901706568829922240"
     }
    },
    "outputId": "7ce141bc-d9d3-46fc-d3a1-5a3157edbb85",
    "colab": {
     "base_uri": "https://localhost:8080/",
     "height": 294
    }
   },
   "source": [
    "# 損失\n",
    "plt.figure()\n",
    "plt.title('Train and Test Loss')\n",
    "plt.xlabel('Epoch')\n",
    "plt.ylabel('Loss')\n",
    "plt.plot(range(1, epoch+1), train_loss_list, color='blue',\n",
    "         linestyle='-', label='Train_Loss')\n",
    "plt.plot(range(1, epoch+1), test_loss_list, color='red',\n",
    "         linestyle='--', label='Test_Loss')\n",
    "plt.legend()  # 凡例\n",
    "plt.show()  # 表示"
   ],
   "execution_count": null,
   "outputs": []
  },
  {
   "cell_type": "markdown",
   "metadata": {
    "id": "DCfFhNa_N1XW"
   },
   "source": [
    "## 2.7. テストデータに対する予測の評価"
   ]
  },
  {
   "cell_type": "code",
   "metadata": {
    "id": "k7SYNyIjN21F"
   },
   "source": [
    "# ニューラルネットワークを評価モードに設定\n",
    "net.eval()\n",
    "# 推定時の計算で自動微分機能をオフにする\n",
    "with torch.no_grad():\n",
    "    # 初期化\n",
    "    pred_ma = []\n",
    "    true_ma = []\n",
    "    for data, label in test_batch:\n",
    "        # GPUにTensorを転送\n",
    "        data = data.to(device)\n",
    "        label = label.to(device)\n",
    "        # データを入力して予測値を計算（順伝播）\n",
    "        y_pred = net(data)\n",
    "        pred_ma.append(y_pred.view(-1).tolist())  # Tensorを1次元listに変換\n",
    "        true_ma.append(label.view(-1).tolist())"
   ],
   "execution_count": null,
   "outputs": []
  },
  {
   "cell_type": "code",
   "metadata": {
    "id": "DOgYfjw_N4Ow"
   },
   "source": [
    "# Tensorを数値データを取り出す\n",
    "pred_ma = [elem for lst in pred_ma for elem in lst]  # listを1次元配列に\n",
    "true_ma = [elem for lst in true_ma for elem in lst]\n",
    "\n",
    "# 標準化を解除して元の株価に変換\n",
    "pred_ma = scaler.inverse_transform(pred_ma)\n",
    "true_ma = scaler.inverse_transform(true_ma)"
   ],
   "execution_count": null,
   "outputs": []
  },
  {
   "cell_type": "code",
   "metadata": {
    "id": "hfjJz-iQN5Yd",
    "executionInfo": {
     "status": "ok",
     "timestamp": 1603111706622,
     "user_tz": -540,
     "elapsed": 965307,
     "user": {
      "displayName": "斎藤勇哉",
      "photoUrl": "",
      "userId": "04901706568829922240"
     }
    },
    "outputId": "e58d6700-dd2c-46a5-8012-fe036532121f",
    "colab": {
     "base_uri": "https://localhost:8080/",
     "height": 34
    }
   },
   "source": [
    "# 平均絶対誤差を計算\n",
    "mae = mean_absolute_error(true_ma, pred_ma)\n",
    "print(\"MAE: {:.3f}\".format(mae))"
   ],
   "execution_count": null,
   "outputs": []
  },
  {
   "cell_type": "code",
   "metadata": {
    "id": "HE47TNpON6Kx",
    "executionInfo": {
     "status": "ok",
     "timestamp": 1603111706623,
     "user_tz": -540,
     "elapsed": 965300,
     "user": {
      "displayName": "斎藤勇哉",
      "photoUrl": "",
      "userId": "04901706568829922240"
     }
    },
    "outputId": "9e87e629-43a7-4102-e439-c8345afee3cb",
    "colab": {
     "base_uri": "https://localhost:8080/",
     "height": 314
    }
   },
   "source": [
    "# 終値と25日移動平均を図示\n",
    "date = dataset['date'][-1*test_len:]  # テストデータの日付\n",
    "test_close = dataset['close'][-1*test_len:].values.reshape(-1)  # テストデータの終値\n",
    "plt.figure()\n",
    "plt.title('YHOO Stock Price Prediction')\n",
    "plt.xlabel('Date')\n",
    "plt.ylabel('Stock Price')\n",
    "plt.plot(date, test_close, color='black',\n",
    "         linestyle='-', label='close')\n",
    "plt.plot(date, true_ma, color='dodgerblue',\n",
    "         linestyle='--', label='true_25MA')\n",
    "plt.plot(date, pred_ma, color='red',\n",
    "         linestyle=':', label='predicted_25MA')\n",
    "plt.legend()  # 凡例\n",
    "plt.xticks(rotation=30)  # x軸ラベルを30度回転して表示\n",
    "plt.show()"
   ],
   "execution_count": null,
   "outputs": []
  }
 ]
}
