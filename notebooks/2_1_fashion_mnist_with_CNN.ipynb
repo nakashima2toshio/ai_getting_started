{
 "cells": [
  {
   "cell_type": "code",
   "execution_count": 24,
   "metadata": {
    "collapsed": true,
    "ExecuteTime": {
     "end_time": "2023-05-30T04:25:31.272031Z",
     "start_time": "2023-05-30T04:25:31.268403Z"
    }
   },
   "outputs": [],
   "source": [
    "# fashion mnist\n",
    "\n",
    "import torch\n",
    "import torchvision\n",
    "import numpy as np\n",
    "import pandas as pd\n",
    "import torch.nn as nn\n",
    "import torch.optim as optim\n",
    "import matplotlib.pyplot as plt\n",
    "import torch.nn.functional as F\n",
    "from PIL import Image\n",
    "from torchvision import transforms, datasets\n",
    "from torch.utils.data import Dataset, DataLoader"
   ]
  },
  {
   "cell_type": "code",
   "execution_count": null,
   "outputs": [],
   "source": [
    "root='./fashion-mnist'\n",
    "datasets.FashionMNIST(root, train=True, transform=None, download=True)\n",
    "datasets.FashionMNIST(root, train=False, transform=None, download=True)"
   ],
   "metadata": {
    "collapsed": false
   }
  },
  {
   "cell_type": "code",
   "execution_count": 26,
   "outputs": [],
   "source": [
    "data_transform = transforms.ToTensor()\n",
    "\n",
    "# 学習データを読み込む DataLoader を作成する。\n",
    "train_dataset = datasets.FashionMNIST(\n",
    "    root, train=True, transform=data_transform, download=True\n",
    ")\n",
    "train_data_loader = torch.utils.data.DataLoader(\n",
    "    train_dataset, batch_size=64, shuffle=True\n",
    ")\n",
    "\n",
    "# テストデータを読み込む DataLoader を作成する。\n",
    "test_dataset = datasets.FashionMNIST(\n",
    "    root, train=False, transform=data_transform, download=True\n",
    ")\n",
    "test_data_loader = torch.utils.data.DataLoader(\n",
    "    test_dataset, batch_size=64, shuffle=True\n",
    ")"
   ],
   "metadata": {
    "collapsed": false,
    "ExecuteTime": {
     "end_time": "2023-05-30T04:25:33.061355Z",
     "start_time": "2023-05-30T04:25:33.040046Z"
    }
   }
  },
  {
   "cell_type": "code",
   "execution_count": null,
   "outputs": [],
   "source": [
    "import pprint\n",
    "\n",
    "class_ids, sample_indices = np.unique(train_dataset.targets, return_index=True)\n",
    "class_ids, sample_indices"
   ],
   "metadata": {
    "collapsed": false
   }
  },
  {
   "cell_type": "code",
   "execution_count": null,
   "outputs": [],
   "source": [
    "fig = plt.figure(figsize=(10, 4))\n",
    "for i in range(10):\n",
    "    ax = fig.add_subplot(2, 5, i + 1)\n",
    "for i in range(10):\n",
    "    print(i, train_dataset.targets[i])\n",
    "    img = train_dataset.data[sample_indices[i]]\n",
    "    plt.imshow(img, cmap=\"gray\")"
   ],
   "metadata": {
    "collapsed": false
   }
  },
  {
   "cell_type": "code",
   "execution_count": null,
   "outputs": [],
   "source": [
    "# 各クラスのラベルを持つサンプルを1つずつ取得する。\n",
    "class_names = ['T-shirt/top', 'Trouser', 'Pullover', 'Dress', 'Coat',\n",
    "               'Sandal', 'Shirt', 'Sneaker', 'Bag', 'Ankle boot']\n",
    "\n",
    "class_ids, sample_indices = np.unique(train_dataset.targets, return_index=True)\n",
    "\n",
    "fig = plt.figure(figsize=(10, 4))\n",
    "fig.suptitle(\n",
    "    \"Examples of every class in the Fashion-MNIST dataset\", fontsize=\"x-large\"\n",
    ")\n",
    "\n",
    "for i in class_ids:\n",
    "    img = train_dataset.data[sample_indices[i]]\n",
    "    class_name = train_dataset.classes[i]\n",
    "\n",
    "    ax = fig.add_subplot(2, 5, i + 1)\n",
    "    ax.set_title(f\"{i}: {class_name}\")\n",
    "    ax.set_axis_off()\n",
    "    ax.imshow(img, cmap=\"gray\")\n",
    "\n",
    "plt.show()"
   ],
   "metadata": {
    "collapsed": false
   }
  },
  {
   "cell_type": "code",
   "execution_count": 30,
   "outputs": [],
   "source": [
    "class Net(nn.Module):\n",
    "    def __init__(self):\n",
    "        super().__init__()\n",
    "        self.features = nn.Sequential(\n",
    "            nn.Conv2d(1, 32, kernel_size=3, padding=1),\n",
    "            nn.ReLU(),\n",
    "            nn.MaxPool2d(kernel_size=2),\n",
    "            nn.Conv2d(32, 64, kernel_size=3, padding=1),\n",
    "            nn.ReLU(),\n",
    "            nn.MaxPool2d(kernel_size=2),\n",
    "        )\n",
    "\n",
    "        self.classifier = nn.Sequential(\n",
    "            nn.Dropout(),\n",
    "            nn.Linear(64 * 7 * 7, 128),\n",
    "            nn.ReLU(),\n",
    "            nn.Dropout(),\n",
    "            nn.Linear(128, 10),\n",
    "            nn.LogSoftmax(dim=1),\n",
    "        )\n",
    "\n",
    "    def forward(self, x):\n",
    "        x = self.features(x)\n",
    "        x = torch.flatten(x, 1)\n",
    "        x = self.classifier(x)\n",
    "\n",
    "        return x"
   ],
   "metadata": {
    "collapsed": false,
    "ExecuteTime": {
     "end_time": "2023-05-30T04:25:38.754056Z",
     "start_time": "2023-05-30T04:25:38.751718Z"
    }
   }
  },
  {
   "cell_type": "code",
   "execution_count": 31,
   "outputs": [],
   "source": [
    "device = torch.device(\"mps\")   # if torch.cuda.is_available() else \"cpu\")\n",
    "model = Net().to(device)\n",
    "criterion = nn.NLLLoss()\n",
    "optimizer = optim.Adam(model.parameters(), lr=0.003)\n",
    "\n",
    "epochs = 10"
   ],
   "metadata": {
    "collapsed": false,
    "ExecuteTime": {
     "end_time": "2023-05-30T04:25:39.998688Z",
     "start_time": "2023-05-30T04:25:39.989610Z"
    }
   }
  },
  {
   "cell_type": "code",
   "execution_count": null,
   "outputs": [],
   "source": [
    "train_loss_list = []\n",
    "train_acc_list = []\n",
    "for epoch in range(epochs):\n",
    "    train_loss = 0.0\n",
    "    train_acc = 0.0\n",
    "\n",
    "    model.train()\n",
    "    for images, labels in train_data_loader:\n",
    "        images, labels = images.to(device), labels.to(device)\n",
    "\n",
    "        optimizer.zero_grad()\n",
    "\n",
    "        outputs = model(images)\n",
    "        loss = criterion(outputs, labels)\n",
    "        loss.backward()\n",
    "        optimizer.step()\n",
    "\n",
    "        train_loss += loss.item()\n",
    "        train_acc += (outputs.argmax(1) == labels).sum().item()\n",
    "\n",
    "    train_loss /= len(train_data_loader)\n",
    "    train_acc /= len(train_data_loader)\n",
    "    train_loss_list.append(train_loss)\n",
    "    train_acc_list.append(train_acc)\n",
    "\n",
    "    print(f\"Epoch: {epoch + 1}/{epochs}\")\n",
    "    print(f\"Train loss: {train_loss:.4f}, accuracy: {train_acc:.4f}\")"
   ],
   "metadata": {
    "collapsed": false
   }
  },
  {
   "cell_type": "code",
   "execution_count": null,
   "outputs": [],
   "source": [
    "plt.plot(train_loss_list, label = 'train loss')\n",
    "plt.plot(train_acc_list, label = 'train acc')\n",
    "plt.legend()\n",
    "plt.show()"
   ],
   "metadata": {
    "collapsed": false
   }
  },
  {
   "cell_type": "code",
   "execution_count": 10,
   "outputs": [],
   "source": [
    "# 学習データを読み込む DataLoader を作成する。\n",
    "train_dataset = datasets.FashionMNIST(\n",
    "    root, train=True, transform=data_transform, download=True\n",
    ")"
   ],
   "metadata": {
    "collapsed": false,
    "ExecuteTime": {
     "end_time": "2023-05-30T01:23:15.623322Z",
     "start_time": "2023-05-30T01:23:15.607354Z"
    }
   }
  }
 ],
 "metadata": {
  "kernelspec": {
   "display_name": "Python 3",
   "language": "python",
   "name": "python3"
  },
  "language_info": {
   "codemirror_mode": {
    "name": "ipython",
    "version": 2
   },
   "file_extension": ".py",
   "mimetype": "text/x-python",
   "name": "python",
   "nbconvert_exporter": "python",
   "pygments_lexer": "ipython2",
   "version": "2.7.6"
  }
 },
 "nbformat": 4,
 "nbformat_minor": 0
}
