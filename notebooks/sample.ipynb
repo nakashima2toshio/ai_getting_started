{
 "cells": [
  {
   "cell_type": "code",
   "execution_count": 7,
   "outputs": [],
   "source": [
    "import os\n",
    "\n",
    "dir_name = os.getcwd()"
   ],
   "metadata": {
    "collapsed": false,
    "ExecuteTime": {
     "end_time": "2023-06-07T22:52:33.256857Z",
     "start_time": "2023-06-07T22:52:33.252649Z"
    }
   }
  },
  {
   "cell_type": "code",
   "execution_count": 8,
   "outputs": [
    {
     "name": "stdout",
     "output_type": "stream",
     "text": [
      "/Users/nakashima_toshio/PycharmProjects/ai_getting_start/notebooks\n"
     ]
    }
   ],
   "source": [
    "print(dir_name)"
   ],
   "metadata": {
    "collapsed": false,
    "ExecuteTime": {
     "end_time": "2023-06-07T22:52:33.959523Z",
     "start_time": "2023-06-07T22:52:33.955764Z"
    }
   }
  },
  {
   "cell_type": "code",
   "execution_count": 10,
   "outputs": [],
   "source": [
    "dir_list = dir_name.split(sep='/')"
   ],
   "metadata": {
    "collapsed": false,
    "ExecuteTime": {
     "end_time": "2023-06-07T22:52:41.686754Z",
     "start_time": "2023-06-07T22:52:41.683324Z"
    }
   }
  },
  {
   "cell_type": "code",
   "execution_count": 11,
   "outputs": [
    {
     "data": {
      "text/plain": "['',\n 'Users',\n 'nakashima_toshio',\n 'PycharmProjects',\n 'ai_getting_start',\n 'notebooks']"
     },
     "execution_count": 11,
     "metadata": {},
     "output_type": "execute_result"
    }
   ],
   "source": [
    "dir_list"
   ],
   "metadata": {
    "collapsed": false,
    "ExecuteTime": {
     "end_time": "2023-06-07T22:52:52.563373Z",
     "start_time": "2023-06-07T22:52:52.557720Z"
    }
   }
  },
  {
   "cell_type": "code",
   "execution_count": 2,
   "outputs": [
    {
     "name": "stdout",
     "output_type": "stream",
     "text": [
      "[[1], [2], [3]]\n"
     ]
    }
   ],
   "source": [
    "import pprint\n",
    "\n",
    "aaa = list()\n",
    "a1 = [1]\n",
    "a2 = [2]\n",
    "a3 = [3]\n",
    "\n",
    "aaa.append(a1)\n",
    "aaa.append(a2)\n",
    "aaa.append(a3)\n",
    "pprint.pprint(aaa)"
   ],
   "metadata": {
    "collapsed": false,
    "ExecuteTime": {
     "end_time": "2023-06-11T06:16:51.580750Z",
     "start_time": "2023-06-11T06:16:51.577747Z"
    }
   }
  },
  {
   "cell_type": "code",
   "execution_count": null,
   "outputs": [],
   "source": [],
   "metadata": {
    "collapsed": false
   }
  }
 ],
 "metadata": {
  "kernelspec": {
   "display_name": "Python 3",
   "language": "python",
   "name": "python3"
  },
  "language_info": {
   "codemirror_mode": {
    "name": "ipython",
    "version": 2
   },
   "file_extension": ".py",
   "mimetype": "text/x-python",
   "name": "python",
   "nbconvert_exporter": "python",
   "pygments_lexer": "ipython2",
   "version": "2.7.6"
  }
 },
 "nbformat": 4,
 "nbformat_minor": 0
}
