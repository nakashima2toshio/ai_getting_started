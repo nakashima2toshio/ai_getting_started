{
 "cells": [
  {
   "cell_type": "markdown",
   "source": [
    "## 題目：XXXXXの予後予測【サンプルコード】\n"
   ],
   "metadata": {
    "collapsed": false
   }
  },
  {
   "cell_type": "markdown",
   "source": [
    "# Chapter3 ニューラルネットワークの基本\n",
    "## 3. 糖尿病の予後予測【サンプルコード】\n",
    "# 必要なパッケージのインストール"
   ],
   "metadata": {
    "collapsed": false
   }
  },
  {
   "cell_type": "markdown",
   "source": [
    "## 3.1. 糖尿病（Diabetes）データセット\n",
    "# データセットのロード\n",
    "# データセットの説明\n",
    "# データフレームに変換\n",
    "# データセットの可視化"
   ],
   "metadata": {
    "collapsed": false
   }
  },
  {
   "cell_type": "markdown",
   "source": [
    "## 3.2. 前準備\n",
    "# データセットの読み込み\n",
    "# データセットのサイズの確認"
   ],
   "metadata": {
    "collapsed": false
   }
  },
  {
   "cell_type": "markdown",
   "source": [
    "## 3.3. 訓練データとテストデータの用意\n",
    "# 学習データとテストデータを分割\n",
    "# 学習データとテストデータのサイズの確認\n",
    "# ndarrayをPyTorchのTensorに変換\n",
    "# 特徴量とラベルを結合したデータセットを作成\n",
    "# ミニバッチサイズを指定したデータローダーを作成\n",
    "# ミニバッチデータセットの確認"
   ],
   "metadata": {
    "collapsed": false
   }
  },
  {
   "cell_type": "markdown",
   "source": [
    "## 3.4. ニューラルネットワークの定義\n",
    "# ニューラルネットワークの定義\n",
    "# ハイパーパラメータの定義\n",
    "# 入力次元: 10\n",
    "# 隠れ層次元: 200\n",
    "# 出力次元: 1\n",
    "# 学習回数: 100\n",
    "# ネットワークのロード\n",
    "# CPUとGPUどちらを使うかを指定\n",
    "# デバイスの確認"
   ],
   "metadata": {
    "collapsed": false
   }
  },
  {
   "cell_type": "markdown",
   "source": [
    "## 3.5. 損失関数と最適化関数の定義\n",
    "# 損失関数の定義\n",
    "# 今回の損失関数（平均二乗誤差: MSE）\n",
    "# 参考用（平均絶対誤差: MAE）\n",
    "# 最適化関数の定義"
   ],
   "metadata": {
    "collapsed": false
   }
  },
  {
   "cell_type": "markdown",
   "source": [
    "## 3.6. 学習\n",
    "# 損失を保存するリストを作成\n",
    "# 学習損失（MSE）\n",
    "# 評価損失（MSE）\n",
    "# 学習MAE\n",
    "# 評価MAE\n",
    "# 学習（エポック）の実行\n",
    "# エポックの進行状況を表示\n",
    "# 損失の初期化\n",
    "    # ---------学習パート--------- #\n",
    "    # ニューラルネットワークを学習モードに設定\n",
    "    # ミニバッチごとにデータをロードし学習\n",
    "        # GPUにTensorを転送\n",
    "        # 勾配を初期化\n",
    "        # データを入力して予測値を計算（順伝播）\n",
    "        # 損失（誤差）を計算\n",
    "       # MSE\n",
    "       # MAE\n",
    "        # 勾配の計算（逆伝搬）\n",
    "        # パラメータ（重み）の更新\n",
    "        # ミニバッチごとの損失を蓄積\n",
    "        # MSE\n",
    "        # MAE\n",
    "\n",
    "    # ミニバッチの平均の損失を計算\n",
    "    # ---------学習パートはここまで--------- #"
   ],
   "metadata": {
    "collapsed": false
   }
  },
  {
   "cell_type": "markdown",
   "source": [
    "\n",
    "    # ---------評価パート--------- #\n",
    "    # ニューラルネットワークを評価モードに設定\n",
    "\n",
    "    # 評価時の計算で自動微分機能をオフにする\n",
    "            # GPUにTensorを転送\n",
    "            # データを入力して予測値を計算（順伝播）\n",
    "            # 損失（誤差）を計算\n",
    "            # MSE\n",
    "            # MAE\n",
    "            # ミニバッチごとの損失を蓄積\n",
    "            # MSE\n",
    "            # MAE\n",
    "\n",
    "    # ミニバッチの平均の損失を計算\n",
    "    # ---------評価パートはここまで--------- #\n",
    "    # エポックごとに損失を表示\n",
    "    # 損失をリスト化して保存"
   ],
   "metadata": {
    "collapsed": false
   }
  },
  {
   "cell_type": "markdown",
   "source": [],
   "metadata": {
    "collapsed": false
   }
  },
  {
   "cell_type": "code",
   "execution_count": null,
   "outputs": [],
   "source": [
    "## 3.7. 結果の可視化\n",
    "# 損失（MSE）\n",
    "# MAE\n",
    "# 表示\n",
    "# 予測値と正解のプロット\n",
    "# 表示"
   ],
   "metadata": {
    "collapsed": false
   }
  }
 ],
 "metadata": {
  "kernelspec": {
   "display_name": "Python 3",
   "language": "python",
   "name": "python3"
  },
  "language_info": {
   "codemirror_mode": {
    "name": "ipython",
    "version": 2
   },
   "file_extension": ".py",
   "mimetype": "text/x-python",
   "name": "python",
   "nbconvert_exporter": "python",
   "pygments_lexer": "ipython2",
   "version": "2.7.6"
  }
 },
 "nbformat": 4,
 "nbformat_minor": 0
}
