{
 "nbformat": 4,
 "nbformat_minor": 0,
 "metadata": {
  "colab": {
   "name": "Section4-3.ipynb",
   "provenance": [],
   "collapsed_sections": []
  },
  "kernelspec": {
   "name": "python3",
   "display_name": "Python 3"
  },
  "accelerator": "GPU",
  "widgets": {
   "application/vnd.jupyter.widget-state+json": {
    "1bed5ac7bc224e57b1578099ea697eca": {
     "model_module": "@jupyter-widgets/controls",
     "model_name": "HBoxModel",
     "state": {
      "_view_name": "HBoxView",
      "_dom_classes": [],
      "_model_name": "HBoxModel",
      "_view_module": "@jupyter-widgets/controls",
      "_model_module_version": "1.5.0",
      "_view_count": null,
      "_view_module_version": "1.5.0",
      "box_style": "",
      "layout": "IPY_MODEL_7f607171895745749bd4a66120b46e7d",
      "_model_module": "@jupyter-widgets/controls",
      "children": [
       "IPY_MODEL_4c89d4200b0e406a81d72c6216b307dd",
       "IPY_MODEL_9ba83dd402e2488faf7612e4dc50ed2f"
      ]
     }
    },
    "7f607171895745749bd4a66120b46e7d": {
     "model_module": "@jupyter-widgets/base",
     "model_name": "LayoutModel",
     "state": {
      "_view_name": "LayoutView",
      "grid_template_rows": null,
      "right": null,
      "justify_content": null,
      "_view_module": "@jupyter-widgets/base",
      "overflow": null,
      "_model_module_version": "1.2.0",
      "_view_count": null,
      "flex_flow": null,
      "width": null,
      "min_width": null,
      "border": null,
      "align_items": null,
      "bottom": null,
      "_model_module": "@jupyter-widgets/base",
      "top": null,
      "grid_column": null,
      "overflow_y": null,
      "overflow_x": null,
      "grid_auto_flow": null,
      "grid_area": null,
      "grid_template_columns": null,
      "flex": null,
      "_model_name": "LayoutModel",
      "justify_items": null,
      "grid_row": null,
      "max_height": null,
      "align_content": null,
      "visibility": null,
      "align_self": null,
      "height": null,
      "min_height": null,
      "padding": null,
      "grid_auto_rows": null,
      "grid_gap": null,
      "max_width": null,
      "order": null,
      "_view_module_version": "1.2.0",
      "grid_template_areas": null,
      "object_position": null,
      "object_fit": null,
      "grid_auto_columns": null,
      "margin": null,
      "display": null,
      "left": null
     }
    },
    "4c89d4200b0e406a81d72c6216b307dd": {
     "model_module": "@jupyter-widgets/controls",
     "model_name": "FloatProgressModel",
     "state": {
      "_view_name": "ProgressView",
      "style": "IPY_MODEL_cbf6f0cba49b4598a91900ab3dc901df",
      "_dom_classes": [],
      "description": "",
      "_model_name": "FloatProgressModel",
      "bar_style": "info",
      "max": 1,
      "_view_module": "@jupyter-widgets/controls",
      "_model_module_version": "1.5.0",
      "value": 1,
      "_view_count": null,
      "_view_module_version": "1.5.0",
      "orientation": "horizontal",
      "min": 0,
      "description_tooltip": null,
      "_model_module": "@jupyter-widgets/controls",
      "layout": "IPY_MODEL_379f4da9885343dea7bc9de029577443"
     }
    },
    "9ba83dd402e2488faf7612e4dc50ed2f": {
     "model_module": "@jupyter-widgets/controls",
     "model_name": "HTMLModel",
     "state": {
      "_view_name": "HTMLView",
      "style": "IPY_MODEL_880fd4d2e6164c88849dec82102a65fe",
      "_dom_classes": [],
      "description": "",
      "_model_name": "HTMLModel",
      "placeholder": "​",
      "_view_module": "@jupyter-widgets/controls",
      "_model_module_version": "1.5.0",
      "value": " 170500096/? [00:20&lt;00:00, 33802054.82it/s]",
      "_view_count": null,
      "_view_module_version": "1.5.0",
      "description_tooltip": null,
      "_model_module": "@jupyter-widgets/controls",
      "layout": "IPY_MODEL_afc1c083ddc341ac809f294b44f4e653"
     }
    },
    "cbf6f0cba49b4598a91900ab3dc901df": {
     "model_module": "@jupyter-widgets/controls",
     "model_name": "ProgressStyleModel",
     "state": {
      "_view_name": "StyleView",
      "_model_name": "ProgressStyleModel",
      "description_width": "initial",
      "_view_module": "@jupyter-widgets/base",
      "_model_module_version": "1.5.0",
      "_view_count": null,
      "_view_module_version": "1.2.0",
      "bar_color": null,
      "_model_module": "@jupyter-widgets/controls"
     }
    },
    "379f4da9885343dea7bc9de029577443": {
     "model_module": "@jupyter-widgets/base",
     "model_name": "LayoutModel",
     "state": {
      "_view_name": "LayoutView",
      "grid_template_rows": null,
      "right": null,
      "justify_content": null,
      "_view_module": "@jupyter-widgets/base",
      "overflow": null,
      "_model_module_version": "1.2.0",
      "_view_count": null,
      "flex_flow": null,
      "width": null,
      "min_width": null,
      "border": null,
      "align_items": null,
      "bottom": null,
      "_model_module": "@jupyter-widgets/base",
      "top": null,
      "grid_column": null,
      "overflow_y": null,
      "overflow_x": null,
      "grid_auto_flow": null,
      "grid_area": null,
      "grid_template_columns": null,
      "flex": null,
      "_model_name": "LayoutModel",
      "justify_items": null,
      "grid_row": null,
      "max_height": null,
      "align_content": null,
      "visibility": null,
      "align_self": null,
      "height": null,
      "min_height": null,
      "padding": null,
      "grid_auto_rows": null,
      "grid_gap": null,
      "max_width": null,
      "order": null,
      "_view_module_version": "1.2.0",
      "grid_template_areas": null,
      "object_position": null,
      "object_fit": null,
      "grid_auto_columns": null,
      "margin": null,
      "display": null,
      "left": null
     }
    },
    "880fd4d2e6164c88849dec82102a65fe": {
     "model_module": "@jupyter-widgets/controls",
     "model_name": "DescriptionStyleModel",
     "state": {
      "_view_name": "StyleView",
      "_model_name": "DescriptionStyleModel",
      "description_width": "",
      "_view_module": "@jupyter-widgets/base",
      "_model_module_version": "1.5.0",
      "_view_count": null,
      "_view_module_version": "1.2.0",
      "_model_module": "@jupyter-widgets/controls"
     }
    },
    "afc1c083ddc341ac809f294b44f4e653": {
     "model_module": "@jupyter-widgets/base",
     "model_name": "LayoutModel",
     "state": {
      "_view_name": "LayoutView",
      "grid_template_rows": null,
      "right": null,
      "justify_content": null,
      "_view_module": "@jupyter-widgets/base",
      "overflow": null,
      "_model_module_version": "1.2.0",
      "_view_count": null,
      "flex_flow": null,
      "width": null,
      "min_width": null,
      "border": null,
      "align_items": null,
      "bottom": null,
      "_model_module": "@jupyter-widgets/base",
      "top": null,
      "grid_column": null,
      "overflow_y": null,
      "overflow_x": null,
      "grid_auto_flow": null,
      "grid_area": null,
      "grid_template_columns": null,
      "flex": null,
      "_model_name": "LayoutModel",
      "justify_items": null,
      "grid_row": null,
      "max_height": null,
      "align_content": null,
      "visibility": null,
      "align_self": null,
      "height": null,
      "min_height": null,
      "padding": null,
      "grid_auto_rows": null,
      "grid_gap": null,
      "max_width": null,
      "order": null,
      "_view_module_version": "1.2.0",
      "grid_template_areas": null,
      "object_position": null,
      "object_fit": null,
      "grid_auto_columns": null,
      "margin": null,
      "display": null,
      "left": null
     }
    },
    "cedf647513b04556921005985627fe0f": {
     "model_module": "@jupyter-widgets/controls",
     "model_name": "HBoxModel",
     "state": {
      "_view_name": "HBoxView",
      "_dom_classes": [],
      "_model_name": "HBoxModel",
      "_view_module": "@jupyter-widgets/controls",
      "_model_module_version": "1.5.0",
      "_view_count": null,
      "_view_module_version": "1.5.0",
      "box_style": "",
      "layout": "IPY_MODEL_e3ca51daf2394d9995661c1d9a7465e0",
      "_model_module": "@jupyter-widgets/controls",
      "children": [
       "IPY_MODEL_4c2cb47a420c4e72a73667585f605cc7",
       "IPY_MODEL_1cbd6349c98a4d1d8af913af4cebcc7d"
      ]
     }
    },
    "e3ca51daf2394d9995661c1d9a7465e0": {
     "model_module": "@jupyter-widgets/base",
     "model_name": "LayoutModel",
     "state": {
      "_view_name": "LayoutView",
      "grid_template_rows": null,
      "right": null,
      "justify_content": null,
      "_view_module": "@jupyter-widgets/base",
      "overflow": null,
      "_model_module_version": "1.2.0",
      "_view_count": null,
      "flex_flow": null,
      "width": null,
      "min_width": null,
      "border": null,
      "align_items": null,
      "bottom": null,
      "_model_module": "@jupyter-widgets/base",
      "top": null,
      "grid_column": null,
      "overflow_y": null,
      "overflow_x": null,
      "grid_auto_flow": null,
      "grid_area": null,
      "grid_template_columns": null,
      "flex": null,
      "_model_name": "LayoutModel",
      "justify_items": null,
      "grid_row": null,
      "max_height": null,
      "align_content": null,
      "visibility": null,
      "align_self": null,
      "height": null,
      "min_height": null,
      "padding": null,
      "grid_auto_rows": null,
      "grid_gap": null,
      "max_width": null,
      "order": null,
      "_view_module_version": "1.2.0",
      "grid_template_areas": null,
      "object_position": null,
      "object_fit": null,
      "grid_auto_columns": null,
      "margin": null,
      "display": null,
      "left": null
     }
    },
    "4c2cb47a420c4e72a73667585f605cc7": {
     "model_module": "@jupyter-widgets/controls",
     "model_name": "FloatProgressModel",
     "state": {
      "_view_name": "ProgressView",
      "style": "IPY_MODEL_83bbc82a991f44d6890c605def1c9c3c",
      "_dom_classes": [],
      "description": "100%",
      "_model_name": "FloatProgressModel",
      "bar_style": "success",
      "max": 244418560,
      "_view_module": "@jupyter-widgets/controls",
      "_model_module_version": "1.5.0",
      "value": 244418560,
      "_view_count": null,
      "_view_module_version": "1.5.0",
      "orientation": "horizontal",
      "min": 0,
      "description_tooltip": null,
      "_model_module": "@jupyter-widgets/controls",
      "layout": "IPY_MODEL_feb1cfa6316142adb84691175a214757"
     }
    },
    "1cbd6349c98a4d1d8af913af4cebcc7d": {
     "model_module": "@jupyter-widgets/controls",
     "model_name": "HTMLModel",
     "state": {
      "_view_name": "HTMLView",
      "style": "IPY_MODEL_e6c655f8e6ce49d0b4324e964a542987",
      "_dom_classes": [],
      "description": "",
      "_model_name": "HTMLModel",
      "placeholder": "​",
      "_view_module": "@jupyter-widgets/controls",
      "_model_module_version": "1.5.0",
      "value": " 233M/233M [19:54&lt;00:00, 205kB/s]",
      "_view_count": null,
      "_view_module_version": "1.5.0",
      "description_tooltip": null,
      "_model_module": "@jupyter-widgets/controls",
      "layout": "IPY_MODEL_abcdb8a6960c411e8b1a8f2b4ed9bf67"
     }
    },
    "83bbc82a991f44d6890c605def1c9c3c": {
     "model_module": "@jupyter-widgets/controls",
     "model_name": "ProgressStyleModel",
     "state": {
      "_view_name": "StyleView",
      "_model_name": "ProgressStyleModel",
      "description_width": "initial",
      "_view_module": "@jupyter-widgets/base",
      "_model_module_version": "1.5.0",
      "_view_count": null,
      "_view_module_version": "1.2.0",
      "bar_color": null,
      "_model_module": "@jupyter-widgets/controls"
     }
    },
    "feb1cfa6316142adb84691175a214757": {
     "model_module": "@jupyter-widgets/base",
     "model_name": "LayoutModel",
     "state": {
      "_view_name": "LayoutView",
      "grid_template_rows": null,
      "right": null,
      "justify_content": null,
      "_view_module": "@jupyter-widgets/base",
      "overflow": null,
      "_model_module_version": "1.2.0",
      "_view_count": null,
      "flex_flow": null,
      "width": null,
      "min_width": null,
      "border": null,
      "align_items": null,
      "bottom": null,
      "_model_module": "@jupyter-widgets/base",
      "top": null,
      "grid_column": null,
      "overflow_y": null,
      "overflow_x": null,
      "grid_auto_flow": null,
      "grid_area": null,
      "grid_template_columns": null,
      "flex": null,
      "_model_name": "LayoutModel",
      "justify_items": null,
      "grid_row": null,
      "max_height": null,
      "align_content": null,
      "visibility": null,
      "align_self": null,
      "height": null,
      "min_height": null,
      "padding": null,
      "grid_auto_rows": null,
      "grid_gap": null,
      "max_width": null,
      "order": null,
      "_view_module_version": "1.2.0",
      "grid_template_areas": null,
      "object_position": null,
      "object_fit": null,
      "grid_auto_columns": null,
      "margin": null,
      "display": null,
      "left": null
     }
    },
    "e6c655f8e6ce49d0b4324e964a542987": {
     "model_module": "@jupyter-widgets/controls",
     "model_name": "DescriptionStyleModel",
     "state": {
      "_view_name": "StyleView",
      "_model_name": "DescriptionStyleModel",
      "description_width": "",
      "_view_module": "@jupyter-widgets/base",
      "_model_module_version": "1.5.0",
      "_view_count": null,
      "_view_module_version": "1.2.0",
      "_model_module": "@jupyter-widgets/controls"
     }
    },
    "abcdb8a6960c411e8b1a8f2b4ed9bf67": {
     "model_module": "@jupyter-widgets/base",
     "model_name": "LayoutModel",
     "state": {
      "_view_name": "LayoutView",
      "grid_template_rows": null,
      "right": null,
      "justify_content": null,
      "_view_module": "@jupyter-widgets/base",
      "overflow": null,
      "_model_module_version": "1.2.0",
      "_view_count": null,
      "flex_flow": null,
      "width": null,
      "min_width": null,
      "border": null,
      "align_items": null,
      "bottom": null,
      "_model_module": "@jupyter-widgets/base",
      "top": null,
      "grid_column": null,
      "overflow_y": null,
      "overflow_x": null,
      "grid_auto_flow": null,
      "grid_area": null,
      "grid_template_columns": null,
      "flex": null,
      "_model_name": "LayoutModel",
      "justify_items": null,
      "grid_row": null,
      "max_height": null,
      "align_content": null,
      "visibility": null,
      "align_self": null,
      "height": null,
      "min_height": null,
      "padding": null,
      "grid_auto_rows": null,
      "grid_gap": null,
      "max_width": null,
      "order": null,
      "_view_module_version": "1.2.0",
      "grid_template_areas": null,
      "object_position": null,
      "object_fit": null,
      "grid_auto_columns": null,
      "margin": null,
      "display": null,
      "left": null
     }
    }
   }
  }
 },
 "cells": [
  {
   "cell_type": "markdown",
   "metadata": {
    "id": "mtcrb1VaDPIA"
   },
   "source": [
    "# Chapter4 畳み込みニューラルネットワークを学ぶ　～画像分類プログラムを作る～\n",
    "## 4. CIFAR-10データセットの転移学習【サンプルコード】"
   ]
  },
  {
   "cell_type": "markdown",
   "metadata": {
    "id": "hDYkesoPLgFJ"
   },
   "source": [
    "## 4.1. 前準備（パッケージのインポート"
   ]
  },
  {
   "cell_type": "code",
   "metadata": {
    "id": "N43X3yzgDTLi"
   },
   "source": [
    "# 必要なパッケージのインストール\n",
    "import numpy as np\n",
    "import matplotlib.pyplot as plt\n",
    "import torch\n",
    "import torchvision\n",
    "from torchvision import models\n",
    "import torchvision.transforms as transforms\n",
    "from torch.utils.data import TensorDataset, DataLoader\n",
    "from torch import nn\n",
    "import torch.nn.functional as F\n",
    "from torch import optim"
   ],
   "execution_count": null,
   "outputs": []
  },
  {
   "cell_type": "markdown",
   "metadata": {
    "id": "7U_OtEYEDiEa"
   },
   "source": [
    "## 4.2. 訓練データとテストデータの用意"
   ]
  },
  {
   "cell_type": "code",
   "metadata": {
    "id": "tNQ_yVRxDldk",
    "executionInfo": {
     "status": "ok",
     "timestamp": 1603106346813,
     "user_tz": -540,
     "elapsed": 35927,
     "user": {
      "displayName": "斎藤勇哉",
      "photoUrl": "",
      "userId": "04901706568829922240"
     }
    },
    "outputId": "ea4f62c3-9a9c-40bc-b60c-d6829b518c04",
    "colab": {
     "base_uri": "https://localhost:8080/",
     "height": 140,
     "referenced_widgets": [
      "1bed5ac7bc224e57b1578099ea697eca",
      "7f607171895745749bd4a66120b46e7d",
      "4c89d4200b0e406a81d72c6216b307dd",
      "9ba83dd402e2488faf7612e4dc50ed2f",
      "cbf6f0cba49b4598a91900ab3dc901df",
      "379f4da9885343dea7bc9de029577443",
      "880fd4d2e6164c88849dec82102a65fe",
      "afc1c083ddc341ac809f294b44f4e653"
     ]
    }
   },
   "source": [
    "# CIFAR10データセットの読み込み\n",
    "train_dataset = torchvision.datasets.CIFAR10(root='./data/',  # データの保存場所\n",
    "                                             train=True,  # 学習データかどうか\n",
    "                                             download=True,  # ダウンロードするかどうか\n",
    "                                             transform=transforms.Compose([\n",
    "                                                 transforms.Resize(224),\n",
    "                                                 transforms.ToTensor(),\n",
    "                                                 transforms.Normalize(\n",
    "                                                  [0.5, 0.5, 0.5],  # RGBの平均\n",
    "                                                  [0.5, 0.5, 0.5],  # RGBの標準偏差\n",
    "                                                 )\n",
    "                                             ]))\n",
    "\n",
    "test_dataset = torchvision.datasets.CIFAR10(root='./data/',\n",
    "                                            train=False,\n",
    "                                            download=True,\n",
    "                                            transform=transforms.Compose([\n",
    "                                                 transforms.Resize(224),\n",
    "                                                 transforms.ToTensor(),\n",
    "                                                 transforms.Normalize(\n",
    "                                                     [0.5, 0.5, 0.5],  # RGBの平均\n",
    "                                                     # RGBの標準偏差\n",
    "                                                     [0.5, 0.5, 0.5],\n",
    "                                                 )\n",
    "                                            ]))\n",
    "\n",
    "# train_datasetの中身を確認\n",
    "image, label = train_dataset[0]\n",
    "print(\"image size: {}\".format(image.size()))  # 画像サイズ\n",
    "print(\"label: {}\".format(label))  # ラベルサイズ"
   ],
   "execution_count": null,
   "outputs": []
  },
  {
   "cell_type": "code",
   "metadata": {
    "id": "UvJg_MA_Dm7E",
    "executionInfo": {
     "status": "ok",
     "timestamp": 1603106347241,
     "user_tz": -540,
     "elapsed": 36350,
     "user": {
      "displayName": "斎藤勇哉",
      "photoUrl": "",
      "userId": "04901706568829922240"
     }
    },
    "outputId": "3dcb8b95-4b61-4206-b51f-6816fa821297",
    "colab": {
     "base_uri": "https://localhost:8080/",
     "height": 72
    }
   },
   "source": [
    "# ミニバッチサイズを指定したデータローダーを作成\n",
    "train_batch = torch.utils.data.DataLoader(dataset=train_dataset,\n",
    "                                          batch_size=64,\n",
    "                                          shuffle=True,\n",
    "                                          num_workers=2)\n",
    "test_batch = torch.utils.data.DataLoader(dataset=test_dataset,\n",
    "                                         batch_size=64,\n",
    "                                         shuffle=False,\n",
    "                                         num_workers=2)\n",
    "\n",
    "# ミニバッチデータセットの確認\n",
    "for images, labels in train_batch:\n",
    "    print(\"batch images size: {}\".format(images.size()))  # バッチの画像サイズ\n",
    "    print(\"image size: {}\".format(images[0].size()))  # 1枚の画像サイズ\n",
    "    print(\"batch labels size: {}\".format(labels.size()))  # バッチのラベルサイズ\n",
    "    break"
   ],
   "execution_count": null,
   "outputs": []
  },
  {
   "cell_type": "markdown",
   "metadata": {
    "id": "w74VlQapDoIT"
   },
   "source": [
    "## 4.3. 学習済みのニューラルネットワークの読み込み"
   ]
  },
  {
   "cell_type": "code",
   "metadata": {
    "id": "w5LcqSpZDpfC",
    "executionInfo": {
     "status": "ok",
     "timestamp": 1603106361405,
     "user_tz": -540,
     "elapsed": 50509,
     "user": {
      "displayName": "斎藤勇哉",
      "photoUrl": "",
      "userId": "04901706568829922240"
     }
    },
    "outputId": "6103d74a-55fb-4962-cd30-0207a1252d9f",
    "colab": {
     "base_uri": "https://localhost:8080/",
     "height": 615,
     "referenced_widgets": [
      "cedf647513b04556921005985627fe0f",
      "e3ca51daf2394d9995661c1d9a7465e0",
      "4c2cb47a420c4e72a73667585f605cc7",
      "1cbd6349c98a4d1d8af913af4cebcc7d",
      "83bbc82a991f44d6890c605def1c9c3c",
      "feb1cfa6316142adb84691175a214757",
      "e6c655f8e6ce49d0b4324e964a542987",
      "abcdb8a6960c411e8b1a8f2b4ed9bf67"
     ]
    }
   },
   "source": [
    "# CPUとGPUどちらを使うかを指定\n",
    "device = torch.device('cuda' if torch.cuda.is_available() else 'cpu')\n",
    "print(device)\n",
    "# 学習済みのAlexNetを取得\n",
    "net = models.alexnet(pretrained=True)\n",
    "net = net.to(device)\n",
    "print(net)  # AlexNetの構造を表示"
   ],
   "execution_count": null,
   "outputs": []
  },
  {
   "cell_type": "code",
   "metadata": {
    "id": "irsSeGN9DraL"
   },
   "source": [
    "# ニューラルネットワークのパラメータが更新されないようにする\n",
    "for param in net.parameters():\n",
    "    param.requires_grad = False\n",
    "net = net.to(device)"
   ],
   "execution_count": null,
   "outputs": []
  },
  {
   "cell_type": "code",
   "metadata": {
    "id": "zOUoP7oMDswF",
    "executionInfo": {
     "status": "ok",
     "timestamp": 1603106361406,
     "user_tz": -540,
     "elapsed": 50503,
     "user": {
      "displayName": "斎藤勇哉",
      "photoUrl": "",
      "userId": "04901706568829922240"
     }
    },
    "outputId": "a701c6a5-02ee-4efb-eac7-4d4905e7e52f",
    "colab": {
     "base_uri": "https://localhost:8080/",
     "height": 508
    }
   },
   "source": [
    "#出力層の出力を1000クラス用から10クラス用に変更\n",
    "num_features = net.classifier[6].in_features  # 出力層の入力サイズ \n",
    "num_classes = 10  # CIFAR10のクラスの数を指定\n",
    "net.classifier[6] = nn.Linear(num_features, num_classes).to(device)  # 出力を1000から2へ変更\n",
    "\n",
    "print(net)"
   ],
   "execution_count": null,
   "outputs": []
  },
  {
   "cell_type": "markdown",
   "metadata": {
    "id": "tNGs8935Dt8K"
   },
   "source": [
    "## 4.4. 損失関数と最適化関数の定義"
   ]
  },
  {
   "cell_type": "code",
   "metadata": {
    "id": "ZJxSVswbDvyR"
   },
   "source": [
    "# 損失関数の定義\n",
    "criterion = nn.CrossEntropyLoss()\n",
    "\n",
    "# 最適化関数の定義\n",
    "optimizer = optim.Adam(net.parameters())"
   ],
   "execution_count": null,
   "outputs": []
  },
  {
   "cell_type": "markdown",
   "metadata": {
    "id": "vKrplbPBD4rz"
   },
   "source": [
    "## 4.5. 学習"
   ]
  },
  {
   "cell_type": "code",
   "metadata": {
    "id": "Rii-ysmcD3Ju",
    "executionInfo": {
     "status": "ok",
     "timestamp": 1603107542994,
     "user_tz": -540,
     "elapsed": 1232083,
     "user": {
      "displayName": "斎藤勇哉",
      "photoUrl": "",
      "userId": "04901706568829922240"
     }
    },
    "outputId": "59378296-1382-47b9-e658-f59a77598d7d",
    "colab": {
     "base_uri": "https://localhost:8080/",
     "height": 745
    }
   },
   "source": [
    "# 損失と正解率を保存するリストを作成\n",
    "train_loss_list = []  # 学習損失\n",
    "train_accuracy_list = []  # 学習データの正答率\n",
    "test_loss_list = []  # 評価損失\n",
    "test_accuracy_list = []  # テストデータの正答率\n",
    "\n",
    "# 学習（エポック）の実行\n",
    "epoch = 10\n",
    "for i in range(epoch):\n",
    "    # エポックの進行状況を表示\n",
    "    print('---------------------------------------------')\n",
    "    print(\"Epoch: {}/{}\".format(i+1, epoch))\n",
    "\n",
    "    # 損失と正解率の初期化\n",
    "    train_loss = 0  # 学習損失\n",
    "    train_accuracy = 0  # 学習データの正答数\n",
    "    test_loss = 0  # 評価損失\n",
    "    test_accuracy = 0  # テストデータの正答数\n",
    "\n",
    "    # ---------学習パート--------- #\n",
    "    # ニューラルネットワークを学習モードに設定\n",
    "    net.train()\n",
    "    # ミニバッチごとにデータをロードし学習\n",
    "    for images, labels in train_batch:\n",
    "        # GPUにTensorを転送\n",
    "        images = images.to(device)\n",
    "        labels = labels.to(device)\n",
    "\n",
    "        # 勾配を初期化\n",
    "        optimizer.zero_grad()\n",
    "        # データを入力して予測値を計算（順伝播）\n",
    "        y_pred_prob = net(images)\n",
    "        # 損失（誤差）を計算\n",
    "        loss = criterion(y_pred_prob, labels)\n",
    "        # 勾配の計算（逆伝搬）\n",
    "        loss.backward()\n",
    "        # パラメータ（重み）の更新\n",
    "        optimizer.step()\n",
    "\n",
    "        # ミニバッチごとの損失を蓄積\n",
    "        train_loss += loss.item()\n",
    "\n",
    "        # 予測したラベルを予測確率y_pred_probから計算\n",
    "        y_pred_labels = torch.max(y_pred_prob, 1)[1]\n",
    "        # ミニバッチごとに正解したラベル数をカウント\n",
    "        train_accuracy += torch.sum(y_pred_labels == labels).item() / len(labels)\n",
    "\n",
    "    # エポックごとの損失と正解率を計算（ミニバッチの平均の損失と正解率を計算）\n",
    "    epoch_train_loss = train_loss / len(train_batch)\n",
    "    epoch_train_accuracy = train_accuracy / len(train_batch)\n",
    "    # ---------学習パートはここまで--------- #\n",
    "\n",
    "    # ---------評価パート--------- #\n",
    "    # ニューラルネットワークを評価モードに設定\n",
    "    net.eval()\n",
    "    # 評価時の計算で自動微分機能をオフにする\n",
    "    with torch.no_grad():\n",
    "        for images, labels in test_batch:\n",
    "            # GPUにTensorを転送\n",
    "            images = images.to(device)\n",
    "            labels = labels.to(device)\n",
    "            # データを入力して予測値を計算（順伝播）\n",
    "            y_pred_prob = net(images)\n",
    "            # 損失（誤差）を計算\n",
    "            loss = criterion(y_pred_prob, labels)\n",
    "            # ミニバッチごとの損失を蓄積\n",
    "            test_loss += loss.item()\n",
    "\n",
    "            # 予測したラベルを予測確率y_pred_probから計算\n",
    "            y_pred_labels = torch.max(y_pred_prob, 1)[1]\n",
    "            # ミニバッチごとに正解したラベル数をカウント\n",
    "            test_accuracy += torch.sum(y_pred_labels == labels).item() / len(labels)\n",
    "    # エポックごとの損失と正解率を計算（ミニバッチの平均の損失と正解率を計算）\n",
    "    epoch_test_loss = test_loss / len(test_batch)\n",
    "    epoch_test_accuracy = test_accuracy / len(test_batch)\n",
    "    # ---------評価パートはここまで--------- #\n",
    "\n",
    "    # エポックごとに損失と正解率を表示\n",
    "    print(\"Train_Loss: {:.4f}, Train_Accuracy: {:.4f}\".format(\n",
    "        epoch_train_loss, epoch_train_accuracy))\n",
    "    print(\"Test_Loss: {:.4f}, Test_Accuracy: {:.4f}\".format(\n",
    "        epoch_test_loss, epoch_test_accuracy))\n",
    "\n",
    "    # 損失と正解率をリスト化して保存\n",
    "    train_loss_list.append(epoch_train_loss)\n",
    "    train_accuracy_list.append(epoch_train_accuracy)\n",
    "    test_loss_list.append(epoch_test_loss)\n",
    "    test_accuracy_list.append(epoch_test_accuracy)"
   ],
   "execution_count": null,
   "outputs": []
  },
  {
   "cell_type": "markdown",
   "metadata": {
    "id": "ZmWJ17NbD8r-"
   },
   "source": [
    "## 4.6. 結果の可視化"
   ]
  },
  {
   "cell_type": "code",
   "metadata": {
    "id": "Ww29LKZGD-Et",
    "executionInfo": {
     "status": "ok",
     "timestamp": 1603107543950,
     "user_tz": -540,
     "elapsed": 1233033,
     "user": {
      "displayName": "斎藤勇哉",
      "photoUrl": "",
      "userId": "04901706568829922240"
     }
    },
    "outputId": "941bfe01-ab2a-446a-8417-5493c770ec6a",
    "colab": {
     "base_uri": "https://localhost:8080/",
     "height": 573
    }
   },
   "source": [
    "# 損失\n",
    "plt.figure()\n",
    "plt.title('Train and Test Loss')  # タイトル\n",
    "plt.xlabel('Epoch')  # 横軸名\n",
    "plt.ylabel('Loss')  # 縦軸名\n",
    "plt.plot(range(1, epoch+1), train_loss_list, color='blue',\n",
    "         linestyle='-', label='Train_Loss')  # Train_lossのプロット\n",
    "plt.plot(range(1, epoch+1), test_loss_list, color='red',\n",
    "         linestyle='--', label='Test_Loss')  # Test_lossのプロット\n",
    "plt.legend()  # 凡例\n",
    "\n",
    "# 正解率\n",
    "plt.figure()\n",
    "plt.title('Train and Test Accuracy')  # タイトル\n",
    "plt.xlabel('Epoch')  # 横軸名\n",
    "plt.ylabel('Accuracy')  # 縦軸名\n",
    "plt.plot(range(1, epoch+1), train_accuracy_list, color='blue',\n",
    "         linestyle='-', label='Train_Accuracy')  # Train_lossのプロット\n",
    "plt.plot(range(1, epoch+1), test_accuracy_list, color='red',\n",
    "         linestyle='--', label='Test_Accuracy')  # Test_lossのプロット\n",
    "plt.legend()\n",
    "\n",
    "# 表示\n",
    "plt.show()"
   ],
   "execution_count": null,
   "outputs": []
  }
 ]
}
