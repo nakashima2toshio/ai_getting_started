{
 "cells": [
  {
   "cell_type": "markdown",
   "source": [
    "# モデルの実装のまとめと学習の導入\n",
    "本単元は、総まとめに当たる単元になるので重要事項を再度確認しよう。\n",
    "\n",
    "> 本講座のタスク\n",
    "* タスクの内容：画像に写っている１文字の数字を何か判定する\n",
    "    * 用意したデータ：60,000枚の手書き数字が写ったラベル付きの画像データ(MNISTデータセット)\n",
    "    * 目的：精度を重視する\n",
    "\n",
    "> 機械学習の流れ\n",
    "1. ~アルゴリズムの選択~：ディープラーニングを選択\n",
    "2. ~前処理~：MNISTデータセットには必要なし\n",
    "3. モデルの学習\n",
    "4. 評価・検証\n",
    "\n",
    "この単元では**MLPモデルを学習させる方法**をメインに「3.モデルの学習」,「4.評価・検証」の実装をしていくぞ！\n",
    "具体的には、モデルの学習に使う`train()`関数と、評価・検証に使う`test()`関数の実装だ。\n",
    "\n",
    "## この単元の目標\n",
    "- MLPモデルを学習できるようになろう\n",
    "- MLPモデルをテストできるようになろう"
   ],
   "metadata": {
    "collapsed": false
   }
  },
  {
   "cell_type": "code",
   "execution_count": null,
   "outputs": [],
   "source": [],
   "metadata": {
    "collapsed": false
   }
  }
 ],
 "metadata": {
  "kernelspec": {
   "display_name": "Python 3",
   "language": "python",
   "name": "python3"
  },
  "language_info": {
   "codemirror_mode": {
    "name": "ipython",
    "version": 2
   },
   "file_extension": ".py",
   "mimetype": "text/x-python",
   "name": "python",
   "nbconvert_exporter": "python",
   "pygments_lexer": "ipython2",
   "version": "2.7.6"
  }
 },
 "nbformat": 4,
 "nbformat_minor": 0
}
